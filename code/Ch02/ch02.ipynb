{
 "cells": [
  {
   "cell_type": "markdown",
   "metadata": {},
   "source": [
    "# 2 Your first data program in PySpark\n",
    "\n",
    "\n",
    "Data-driven applications, no matter how complex, all boil down to what we can think of as three meta steps, which are easy to distinguish in a program:\n",
    "\n",
    "- We start by **loading** or reading the data we wish to work with.\n",
    "- We **transform** the data, either via a few simple instructions or a very complex machine learning model.\n",
    "- We then **export** (or sink) the resulting data, either into a file or by summarizing our findings into a visualization.\n",
    "\n",
    "The next two chapters will introduce a basic workflow with PySpark via the creation of a simple **ETL** (extract, transform, and load, which is a more business-speak way of saying ingest, transform, and export). You will find these three simple steps repeated in every program we build in this book, from a simple summary to the most complex ML model."
   ]
  },
  {
   "cell_type": "markdown",
   "metadata": {},
   "source": [
    "## The SparkSession entry point\n",
    "\n",
    "PySpark uses a builder pattern through the `SparkSession.builder` object. For those familiar with object-oriented programming, a builder pattern provides a set of methods to create a highly configurable object without having multiple constructors. In this chapter, we will only look at the happiest case, but the `SparkSession` builder pattern will become increasingly useful in parts 2 and 3 as we look into cluster configuration and adding dependencies to our jobs."
   ]
  },
  {
   "cell_type": "code",
   "execution_count": 14,
   "metadata": {},
   "outputs": [],
   "source": [
    "from pyspark.sql import SparkSession\n",
    "\n",
    "spark = SparkSession.builder.appName(\n",
    "    \"Analyzing the vocabulary of Pride and Prejudice.\"\n",
    ").getOrCreate()\n"
   ]
  },
  {
   "cell_type": "markdown",
   "metadata": {},
   "source": [
    "By using the `getOrCreate()` method, your program will work in both interactive and batch mode by avoiding the creation of a new SparkSession if one already exists. Note that if a session already exists, you won’t be able to change certain configuration settings (mostly related to JVM options). If you need to change the configuration of your `SparkSession`, kill everything and start from scratch to avoid any confusion."
   ]
  },
  {
   "cell_type": "markdown",
   "metadata": {},
   "source": [
    "`SparkSession` is a superset of that. It wraps the `SparkContext` and provides functionality for interacting with the **Spark SQL API**, which includes the data frame structure we’ll use in most of our programs. Just to prove our point, see how easy it is to get to the `SparkContext` from our `SparkSession` object—just call the `sparkContext` attribute from spark:"
   ]
  },
  {
   "cell_type": "code",
   "execution_count": 15,
   "metadata": {},
   "outputs": [
    {
     "data": {
      "text/html": [
       "\n",
       "        <div>\n",
       "            <p><b>SparkContext</b></p>\n",
       "\n",
       "            <p><a href=\"http://LAPTOP-PF4R1ML7:4041\">Spark UI</a></p>\n",
       "\n",
       "            <dl>\n",
       "              <dt>Version</dt>\n",
       "                <dd><code>v3.2.1</code></dd>\n",
       "              <dt>Master</dt>\n",
       "                <dd><code>local[*]</code></dd>\n",
       "              <dt>AppName</dt>\n",
       "                <dd><code>Analyzing the vocabulary of Pride and Prejudice.</code></dd>\n",
       "            </dl>\n",
       "        </div>\n",
       "        "
      ],
      "text/plain": [
       "<SparkContext master=local[*] appName=Analyzing the vocabulary of Pride and Prejudice.>"
      ]
     },
     "execution_count": 15,
     "metadata": {},
     "output_type": "execute_result"
    }
   ],
   "source": [
    "spark.sparkContext"
   ]
  },
  {
   "cell_type": "markdown",
   "metadata": {},
   "source": [
    "The `SparkSession` object is a more recent addition to the PySpark API, making its way in version 2.0. This is due to the API evolving in a way that makes more room for the faster, more versatile data frame as the main data structure over the lower-level RDD. Before that time, you had to use another object (called the SQLContext) to use the data frame. It’s much easier to have everything under a single umbrella."
   ]
  },
  {
   "cell_type": "code",
   "execution_count": 16,
   "metadata": {},
   "outputs": [
    {
     "name": "stdout",
     "output_type": "stream",
     "text": [
      "\u001b[1;31mType:\u001b[0m        SparkSession\n",
      "\u001b[1;31mString form:\u001b[0m <pyspark.sql.session.SparkSession object at 0x000001EED8CF6970>\n",
      "\u001b[1;31mFile:\u001b[0m        c:\\users\\micha\\spark\\spark-3.2.1-bin-hadoop3.2\\python\\pyspark\\sql\\session.py\n",
      "\u001b[1;31mDocstring:\u001b[0m  \n",
      "The entry point to programming Spark with the Dataset and DataFrame API.\n",
      "\n",
      "A SparkSession can be used create :class:`DataFrame`, register :class:`DataFrame` as\n",
      "tables, execute SQL over tables, cache tables, and read parquet files.\n",
      "To create a :class:`SparkSession`, use the following builder pattern:\n",
      "\n",
      ".. autoattribute:: builder\n",
      "   :annotation:\n",
      "\n",
      "Examples\n",
      "--------\n",
      ">>> spark = SparkSession.builder \\\n",
      "...     .master(\"local\") \\\n",
      "...     .appName(\"Word Count\") \\\n",
      "...     .config(\"spark.some.config.option\", \"some-value\") \\\n",
      "...     .getOrCreate()\n",
      "\n",
      ">>> from datetime import datetime\n",
      ">>> from pyspark.sql import Row\n",
      ">>> spark = SparkSession(sc)\n",
      ">>> allTypes = sc.parallelize([Row(i=1, s=\"string\", d=1.0, l=1,\n",
      "...     b=True, list=[1, 2, 3], dict={\"s\": 0}, row=Row(a=1),\n",
      "...     time=datetime(2014, 8, 1, 14, 1, 5))])\n",
      ">>> df = allTypes.toDF()\n",
      ">>> df.createOrReplaceTempView(\"allTypes\")\n",
      ">>> spark.sql('select i+1, d+1, not b, list[1], dict[\"s\"], time, row.a '\n",
      "...            'from allTypes where b and i > 0').collect()\n",
      "[Row((i + 1)=2, (d + 1)=2.0, (NOT b)=False, list[1]=2,         dict[s]=0, time=datetime.datetime(2014, 8, 1, 14, 1, 5), a=1)]\n",
      ">>> df.rdd.map(lambda x: (x.i, x.s, x.d, x.l, x.b, x.time, x.row.a, x.list)).collect()\n",
      "[(1, 'string', 1.0, 1, True, datetime.datetime(2014, 8, 1, 14, 1, 5), 1, [1, 2, 3])]\n"
     ]
    }
   ],
   "source": [
    "spark?"
   ]
  },
  {
   "cell_type": "markdown",
   "metadata": {},
   "source": [
    "## Configuring how chatty spark is: The log level\n",
    "\n",
    "This section covers the log level, probably the most overlooked (and annoying) element of a PySpark program. Monitoring your PySpark jobs is an important part of developing a robust program. PySpark provides many levels of logging, from nothing at all to a full description of everything happening on the cluster. The `pyspark` shell defaults on `WARN`, which can be a little chatty when we’re learning. More importantly, a non-interactive PySpark program (which is how you’ll run your scripts for the most part) defaults to the oversharing `INFO` level. Fortunately, we can change the settings for your session by using the code in the next listing."
   ]
  },
  {
   "cell_type": "code",
   "execution_count": 17,
   "metadata": {},
   "outputs": [],
   "source": [
    "spark.sparkContext.setLogLevel(\"ERROR\")"
   ]
  },
  {
   "cell_type": "markdown",
   "metadata": {},
   "source": [
    "Table 2.1 lists the available keywords you can pass to setLogLevel (as strings). Each subsequent keyword contains all the previous ones, with the obvious exception of OFF, which doesn’t show anything.\n",
    "![](https://drek4537l1klr.cloudfront.net/rioux/HighResolutionFigures/table_2-1.png)"
   ]
  },
  {
   "cell_type": "markdown",
   "metadata": {},
   "source": [
    "## Mapping Our Program\n",
    "\n",
    "This section maps the blueprint of our simple program. Taking the time to design our data analysis beforehand pays dividends since we can construct our code knowing what’s coming. This will eventually speed up our coding and improve the reliability and modularity of our code. Think of it like reading the recipe when cooking: you never want to realize you’re missing a cup of flour when mixing the dough!\n",
    "\n",
    "In this chapter’s introduction, we introduced our problem statement: “What are the most popular words used in the English language?” Before we can even hammer out code in the REPL, we have to start by mapping the major steps our program will need to perform:\n",
    "\n",
    "- Read—Read the input data (we’re assuming a plain text file).\n",
    "- Token—Tokenize each word.\n",
    "- Clean—Remove any punctuation and/or tokens that aren’t words. Lowercase each word.\n",
    "- Count—Count the frequency of each word present in the text.\n",
    "- Answer—Return the top 10 (or 20, 50, 100).\n",
    "\n",
    "![](https://drek4537l1klr.cloudfront.net/rioux/Figures/02-01.png)"
   ]
  },
  {
   "cell_type": "markdown",
   "metadata": {},
   "source": [
    "## Reading data into a data frame with spark.read"
   ]
  },
  {
   "cell_type": "code",
   "execution_count": 18,
   "metadata": {},
   "outputs": [
    {
     "data": {
      "text/plain": [
       "<pyspark.sql.readwriter.DataFrameReader at 0x1eedbd08d90>"
      ]
     },
     "execution_count": 18,
     "metadata": {},
     "output_type": "execute_result"
    }
   ],
   "source": [
    "spark.read"
   ]
  },
  {
   "cell_type": "code",
   "execution_count": 19,
   "metadata": {},
   "outputs": [
    {
     "data": {
      "text/plain": [
       "['csv',\n",
       " 'format',\n",
       " 'jdbc',\n",
       " 'json',\n",
       " 'load',\n",
       " 'option',\n",
       " 'options',\n",
       " 'orc',\n",
       " 'parquet',\n",
       " 'schema',\n",
       " 'table',\n",
       " 'text']"
      ]
     },
     "execution_count": 19,
     "metadata": {},
     "output_type": "execute_result"
    }
   ],
   "source": [
    "[m for m in dir(spark.read) if not m.startswith(\"_\")]"
   ]
  },
  {
   "cell_type": "markdown",
   "metadata": {},
   "source": [
    "PySpark can accommodate the different ways you can process data. Under the hood, `spark.read.csv()` will map to `spark.read.format('csv').load()`, and you may encounter this form in the wild. I usually prefer using the direct csv method as it provides a handy reminder of the different parameters the reader can take.\n",
    "\n",
    "orc and parquet are also data formats that are especially well suited for big data processing. ORC (which stands for “optimized row columnar”) and Parquet are competing data formats that pretty much serve the same purpose. Both are open sourced and now part of the Apache project, just like Spark.\n",
    "\n",
    "PySpark defaults to using Parquet when reading and writing files, and we’ll use this format to store our results throughout the book. I’ll provide a longer discussion about the usage, advantages, and trade-offs of using Parquet or ORC as a data format."
   ]
  },
  {
   "cell_type": "markdown",
   "metadata": {},
   "source": [
    "Let’s read our data file in listing 2.5. I am assuming you launched PySpark at the root of this book’s repository. Depending on your case, you might need to change the path where the file is located. The code is all available on the book’s companion repository on GitHub (http://mng.bz/6ZOR)."
   ]
  },
  {
   "cell_type": "code",
   "execution_count": 20,
   "metadata": {},
   "outputs": [
    {
     "data": {
      "text/plain": [
       "DataFrame[value: string]"
      ]
     },
     "execution_count": 20,
     "metadata": {},
     "output_type": "execute_result"
    }
   ],
   "source": [
    "book = spark.read.text(\"../../data/gutenberg_books/1342-0.txt\")\n",
    " \n",
    "book"
   ]
  },
  {
   "cell_type": "markdown",
   "metadata": {},
   "source": [
    "![](https://drek4537l1klr.cloudfront.net/rioux/Figures/02-03.png)"
   ]
  },
  {
   "cell_type": "markdown",
   "metadata": {},
   "source": [
    "When working with a larger data frame (think hundreds or even thousands of columns), you may want to see the schema displayed more clearly. PySpark provides `printSchema()` to display the schema in a tree form. I use this method probably more than any other one as it gives you direct information on the structure of the data frame. Since `printSchema()` directly prints to the REPL with no other option, should you want to filter the schema, you can use the `dtypes` attributes of the data frame, which gives you a list of tuples (column_name, column_type). You can also access the schema programmatically (as a data structure) using the `schema` attribute (see chapter 6 for more information)."
   ]
  },
  {
   "cell_type": "code",
   "execution_count": 21,
   "metadata": {},
   "outputs": [
    {
     "name": "stdout",
     "output_type": "stream",
     "text": [
      "root\n",
      " |-- value: string (nullable = true)\n",
      "\n"
     ]
    }
   ],
   "source": [
    "book.printSchema()"
   ]
  },
  {
   "cell_type": "code",
   "execution_count": 22,
   "metadata": {},
   "outputs": [
    {
     "data": {
      "text/plain": [
       "[('value', 'string')]"
      ]
     },
     "execution_count": 22,
     "metadata": {},
     "output_type": "execute_result"
    }
   ],
   "source": [
    "book.dtypes"
   ]
  },
  {
   "cell_type": "code",
   "execution_count": 23,
   "metadata": {},
   "outputs": [
    {
     "data": {
      "text/plain": [
       "StructType(List(StructField(value,StringType,true)))"
      ]
     },
     "execution_count": 23,
     "metadata": {},
     "output_type": "execute_result"
    }
   ],
   "source": [
    "book.schema"
   ]
  },
  {
   "cell_type": "markdown",
   "metadata": {},
   "source": [
    "##  From structure to content: Exploring our data frame with `show()`\n",
    "\n",
    "Enter the `show()` method, which displays a few rows of the data back to you—nothing more, nothing less. With `printSchema()`, this method will become one of your best friends when performing data exploration and validation. By default, it will show 20 rows and truncate long values. The code in listing 2.8 shows the default behavior of the method applied to our book data frame. For text data, the length limitation is limiting (pun intended). Fortunately, `show()` provides some options to display just what you need"
   ]
  },
  {
   "cell_type": "code",
   "execution_count": 24,
   "metadata": {},
   "outputs": [
    {
     "name": "stdout",
     "output_type": "stream",
     "text": [
      "+--------------------+\n",
      "|               value|\n",
      "+--------------------+\n",
      "|The Project Guten...|\n",
      "|                    |\n",
      "|This eBook is for...|\n",
      "|almost no restric...|\n",
      "|re-use it under t...|\n",
      "|with this eBook o...|\n",
      "|                    |\n",
      "|                    |\n",
      "|Title: Pride and ...|\n",
      "|                    |\n",
      "| Author: Jane Austen|\n",
      "|                    |\n",
      "|Posting Date: Aug...|\n",
      "|Release Date: Jun...|\n",
      "|Last Updated: Mar...|\n",
      "|                    |\n",
      "|   Language: English|\n",
      "|                    |\n",
      "|Character set enc...|\n",
      "|                    |\n",
      "+--------------------+\n",
      "only showing top 20 rows\n",
      "\n"
     ]
    }
   ],
   "source": [
    "book.show()"
   ]
  },
  {
   "cell_type": "code",
   "execution_count": 25,
   "metadata": {},
   "outputs": [
    {
     "data": {
      "text/plain": [
       "[Row(value='The Project Gutenberg EBook of Pride and Prejudice, by Jane Austen'),\n",
       " Row(value=''),\n",
       " Row(value='This eBook is for the use of anyone anywhere at no cost and with'),\n",
       " Row(value='almost no restrictions whatsoever.  You may copy it, give it away or'),\n",
       " Row(value='re-use it under the terms of the Project Gutenberg License included'),\n",
       " Row(value='with this eBook or online at www.gutenberg.org'),\n",
       " Row(value=''),\n",
       " Row(value=''),\n",
       " Row(value='Title: Pride and Prejudice'),\n",
       " Row(value=''),\n",
       " Row(value='Author: Jane Austen'),\n",
       " Row(value=''),\n",
       " Row(value='Posting Date: August 26, 2008 [EBook #1342]'),\n",
       " Row(value='Release Date: June, 1998'),\n",
       " Row(value='Last Updated: March 10, 2018'),\n",
       " Row(value=''),\n",
       " Row(value='Language: English'),\n",
       " Row(value=''),\n",
       " Row(value='Character set encoding: UTF-8'),\n",
       " Row(value=''),\n",
       " Row(value='*** START OF THIS PROJECT GUTENBERG EBOOK PRIDE AND PREJUDICE ***'),\n",
       " Row(value=''),\n",
       " Row(value=''),\n",
       " Row(value=''),\n",
       " Row(value=''),\n",
       " Row(value='Produced by Anonymous Volunteers'),\n",
       " Row(value=''),\n",
       " Row(value=''),\n",
       " Row(value=''),\n",
       " Row(value=''),\n",
       " Row(value=''),\n",
       " Row(value='PRIDE AND PREJUDICE'),\n",
       " Row(value=''),\n",
       " Row(value='By Jane Austen'),\n",
       " Row(value=''),\n",
       " Row(value=''),\n",
       " Row(value=''),\n",
       " Row(value='Chapter 1'),\n",
       " Row(value=''),\n",
       " Row(value=''),\n",
       " Row(value='It is a truth universally acknowledged, that a single man in possession'),\n",
       " Row(value='of a good fortune, must be in want of a wife.'),\n",
       " Row(value=''),\n",
       " Row(value='However little known the feelings or views of such a man may be on his'),\n",
       " Row(value='first entering a neighbourhood, this truth is so well fixed in the minds'),\n",
       " Row(value='of the surrounding families, that he is considered the rightful property'),\n",
       " Row(value='of some one or other of their daughters.'),\n",
       " Row(value=''),\n",
       " Row(value='“My dear Mr. Bennet,” said his lady to him one day, “have you heard that'),\n",
       " Row(value='Netherfield Park is let at last?”'),\n",
       " Row(value=''),\n",
       " Row(value='Mr. Bennet replied that he had not.'),\n",
       " Row(value=''),\n",
       " Row(value='“But it is,” returned she; “for Mrs. Long has just been here, and she'),\n",
       " Row(value='told me all about it.”'),\n",
       " Row(value=''),\n",
       " Row(value='Mr. Bennet made no answer.'),\n",
       " Row(value=''),\n",
       " Row(value='“Do you not want to know who has taken it?” cried his wife impatiently.'),\n",
       " Row(value=''),\n",
       " Row(value='“_You_ want to tell me, and I have no objection to hearing it.”'),\n",
       " Row(value=''),\n",
       " Row(value='This was invitation enough.'),\n",
       " Row(value=''),\n",
       " Row(value='“Why, my dear, you must know, Mrs. Long says that Netherfield is taken'),\n",
       " Row(value='by a young man of large fortune from the north of England; that he came'),\n",
       " Row(value='down on Monday in a chaise and four to see the place, and was so much'),\n",
       " Row(value='delighted with it, that he agreed with Mr. Morris immediately; that he'),\n",
       " Row(value='is to take possession before Michaelmas, and some of his servants are to'),\n",
       " Row(value='be in the house by the end of next week.”'),\n",
       " Row(value=''),\n",
       " Row(value='“What is his name?”'),\n",
       " Row(value=''),\n",
       " Row(value='“Bingley.”'),\n",
       " Row(value=''),\n",
       " Row(value='“Is he married or single?”'),\n",
       " Row(value=''),\n",
       " Row(value='“Oh! Single, my dear, to be sure! A single man of large fortune; four or'),\n",
       " Row(value='five thousand a year. What a fine thing for our girls!”'),\n",
       " Row(value=''),\n",
       " Row(value='“How so? How can it affect them?”'),\n",
       " Row(value=''),\n",
       " Row(value='“My dear Mr. Bennet,” replied his wife, “how can you be so tiresome! You'),\n",
       " Row(value='must know that I am thinking of his marrying one of them.”'),\n",
       " Row(value=''),\n",
       " Row(value='“Is that his design in settling here?”'),\n",
       " Row(value=''),\n",
       " Row(value='“Design! Nonsense, how can you talk so! But it is very likely that he'),\n",
       " Row(value='_may_ fall in love with one of them, and therefore you must visit him as'),\n",
       " Row(value='soon as he comes.”'),\n",
       " Row(value=''),\n",
       " Row(value='“I see no occasion for that. You and the girls may go, or you may send'),\n",
       " Row(value='them by themselves, which perhaps will be still better, for as you are'),\n",
       " Row(value='as handsome as any of them, Mr. Bingley may like you the best of the'),\n",
       " Row(value='party.”'),\n",
       " Row(value=''),\n",
       " Row(value='“My dear, you flatter me. I certainly _have_ had my share of beauty, but'),\n",
       " Row(value='I do not pretend to be anything extraordinary now. When a woman has five'),\n",
       " Row(value='grown-up daughters, she ought to give over thinking of her own beauty.”'),\n",
       " Row(value=''),\n",
       " Row(value='“In such cases, a woman has not often much beauty to think of.”'),\n",
       " Row(value=''),\n",
       " Row(value='“But, my dear, you must indeed go and see Mr. Bingley when he comes into'),\n",
       " Row(value='the neighbourhood.”'),\n",
       " Row(value=''),\n",
       " Row(value='“It is more than I engage for, I assure you.”'),\n",
       " Row(value=''),\n",
       " Row(value='“But consider your daughters. Only think what an establishment it would'),\n",
       " Row(value='be for one of them. Sir William and Lady Lucas are determined to'),\n",
       " Row(value='go, merely on that account, for in general, you know, they visit no'),\n",
       " Row(value='newcomers. Indeed you must go, for it will be impossible for _us_ to'),\n",
       " Row(value='visit him if you do not.”'),\n",
       " Row(value=''),\n",
       " Row(value='“You are over-scrupulous, surely. I dare say Mr. Bingley will be very'),\n",
       " Row(value='glad to see you; and I will send a few lines by you to assure him of my'),\n",
       " Row(value='hearty consent to his marrying whichever he chooses of the girls; though'),\n",
       " Row(value='I must throw in a good word for my little Lizzy.”'),\n",
       " Row(value=''),\n",
       " Row(value='“I desire you will do no such thing. Lizzy is not a bit better than the'),\n",
       " Row(value='others; and I am sure she is not half so handsome as Jane, nor half so'),\n",
       " Row(value='good-humoured as Lydia. But you are always giving _her_ the preference.”'),\n",
       " Row(value=''),\n",
       " Row(value='“They have none of them much to recommend them,” replied he; “they are'),\n",
       " Row(value='all silly and ignorant like other girls; but Lizzy has something more of'),\n",
       " Row(value='quickness than her sisters.”'),\n",
       " Row(value=''),\n",
       " Row(value='“Mr. Bennet, how _can_ you abuse your own children in such a way? You'),\n",
       " Row(value='take delight in vexing me. You have no compassion for my poor nerves.”'),\n",
       " Row(value=''),\n",
       " Row(value='“You mistake me, my dear. I have a high respect for your nerves. They'),\n",
       " Row(value='are my old friends. I have heard you mention them with consideration'),\n",
       " Row(value='these last twenty years at least.”'),\n",
       " Row(value=''),\n",
       " Row(value='“Ah, you do not know what I suffer.”'),\n",
       " Row(value=''),\n",
       " Row(value='“But I hope you will get over it, and live to see many young men of four'),\n",
       " Row(value='thousand a year come into the neighbourhood.”'),\n",
       " Row(value=''),\n",
       " Row(value='“It will be no use to us, if twenty such should come, since you will not'),\n",
       " Row(value='visit them.”'),\n",
       " Row(value=''),\n",
       " Row(value='“Depend upon it, my dear, that when there are twenty, I will visit them'),\n",
       " Row(value='all.”'),\n",
       " Row(value=''),\n",
       " Row(value='Mr. Bennet was so odd a mixture of quick parts, sarcastic humour,'),\n",
       " Row(value='reserve, and caprice, that the experience of three-and-twenty years had'),\n",
       " Row(value='been insufficient to make his wife understand his character. _Her_ mind'),\n",
       " Row(value='was less difficult to develop. She was a woman of mean understanding,'),\n",
       " Row(value='little information, and uncertain temper. When she was discontented,'),\n",
       " Row(value='she fancied herself nervous. The business of her life was to get her'),\n",
       " Row(value='daughters married; its solace was visiting and news.'),\n",
       " Row(value=''),\n",
       " Row(value=''),\n",
       " Row(value=''),\n",
       " Row(value='Chapter 2'),\n",
       " Row(value=''),\n",
       " Row(value=''),\n",
       " Row(value='Mr. Bennet was among the earliest of those who waited on Mr. Bingley. He'),\n",
       " Row(value='had always intended to visit him, though to the last always assuring'),\n",
       " Row(value='his wife that he should not go; and till the evening after the visit was'),\n",
       " Row(value='paid she had no knowledge of it. It was then disclosed in the following'),\n",
       " Row(value='manner. Observing his second daughter employed in trimming a hat, he'),\n",
       " Row(value='suddenly addressed her with:'),\n",
       " Row(value=''),\n",
       " Row(value='“I hope Mr. Bingley will like it, Lizzy.”'),\n",
       " Row(value=''),\n",
       " Row(value='“We are not in a way to know _what_ Mr. Bingley likes,” said her mother'),\n",
       " Row(value='resentfully, “since we are not to visit.”'),\n",
       " Row(value=''),\n",
       " Row(value='“But you forget, mamma,” said Elizabeth, “that we shall meet him at the'),\n",
       " Row(value='assemblies, and that Mrs. Long promised to introduce him.”'),\n",
       " Row(value=''),\n",
       " Row(value='“I do not believe Mrs. Long will do any such thing. She has two nieces'),\n",
       " Row(value='of her own. She is a selfish, hypocritical woman, and I have no opinion'),\n",
       " Row(value='of her.”'),\n",
       " Row(value=''),\n",
       " Row(value='“No more have I,” said Mr. Bennet; “and I am glad to find that you do'),\n",
       " Row(value='not depend on her serving you.”'),\n",
       " Row(value=''),\n",
       " Row(value='Mrs. Bennet deigned not to make any reply, but, unable to contain'),\n",
       " Row(value='herself, began scolding one of her daughters.'),\n",
       " Row(value=''),\n",
       " Row(value=\"“Don't keep coughing so, Kitty, for Heaven's sake! Have a little\"),\n",
       " Row(value='compassion on my nerves. You tear them to pieces.”'),\n",
       " Row(value=''),\n",
       " Row(value='“Kitty has no discretion in her coughs,” said her father; “she times'),\n",
       " Row(value='them ill.”'),\n",
       " Row(value=''),\n",
       " Row(value='“I do not cough for my own amusement,” replied Kitty fretfully. “When is'),\n",
       " Row(value='your next ball to be, Lizzy?”'),\n",
       " Row(value=''),\n",
       " Row(value='“To-morrow fortnight.”'),\n",
       " Row(value=''),\n",
       " Row(value='“Aye, so it is,” cried her mother, “and Mrs. Long does not come back'),\n",
       " Row(value='till the day before; so it will be impossible for her to introduce him,'),\n",
       " Row(value='for she will not know him herself.”'),\n",
       " Row(value=''),\n",
       " Row(value='“Then, my dear, you may have the advantage of your friend, and introduce'),\n",
       " Row(value='Mr. Bingley to _her_.”'),\n",
       " Row(value=''),\n",
       " Row(value='“Impossible, Mr. Bennet, impossible, when I am not acquainted with him'),\n",
       " Row(value='myself; how can you be so teasing?”'),\n",
       " Row(value=''),\n",
       " Row(value=\"“I honour your circumspection. A fortnight's acquaintance is certainly\"),\n",
       " Row(value='very little. One cannot know what a man really is by the end of a'),\n",
       " Row(value='fortnight. But if _we_ do not venture somebody else will; and after all,'),\n",
       " Row(value='Mrs. Long and her neices must stand their chance; and, therefore, as'),\n",
       " Row(value='she will think it an act of kindness, if you decline the office, I will'),\n",
       " Row(value='take it on myself.”'),\n",
       " Row(value=''),\n",
       " Row(value='The girls stared at their father. Mrs. Bennet said only, “Nonsense,'),\n",
       " Row(value='nonsense!”'),\n",
       " Row(value=''),\n",
       " Row(value='“What can be the meaning of that emphatic exclamation?” cried he. “Do'),\n",
       " Row(value='you consider the forms of introduction, and the stress that is laid on'),\n",
       " Row(value='them, as nonsense? I cannot quite agree with you _there_. What say you,'),\n",
       " Row(value='Mary? For you are a young lady of deep reflection, I know, and read'),\n",
       " Row(value='great books and make extracts.”'),\n",
       " Row(value=''),\n",
       " Row(value='Mary wished to say something sensible, but knew not how.'),\n",
       " Row(value=''),\n",
       " Row(value='“While Mary is adjusting her ideas,” he continued, “let us return to Mr.'),\n",
       " Row(value='Bingley.”'),\n",
       " Row(value=''),\n",
       " Row(value='“I am sick of Mr. Bingley,” cried his wife.'),\n",
       " Row(value=''),\n",
       " Row(value='“I am sorry to hear _that_; but why did not you tell me that before? If'),\n",
       " Row(value='I had known as much this morning I certainly would not have called'),\n",
       " Row(value='on him. It is very unlucky; but as I have actually paid the visit, we'),\n",
       " Row(value='cannot escape the acquaintance now.”'),\n",
       " Row(value=''),\n",
       " Row(value='The astonishment of the ladies was just what he wished; that of Mrs.'),\n",
       " Row(value='Bennet perhaps surpassing the rest; though, when the first tumult of joy'),\n",
       " Row(value='was over, she began to declare that it was what she had expected all the'),\n",
       " Row(value='while.'),\n",
       " Row(value=''),\n",
       " Row(value='“How good it was in you, my dear Mr. Bennet! But I knew I should'),\n",
       " Row(value='persuade you at last. I was sure you loved your girls too well to'),\n",
       " Row(value='neglect such an acquaintance. Well, how pleased I am! and it is such a'),\n",
       " Row(value='good joke, too, that you should have gone this morning and never said a'),\n",
       " Row(value='word about it till now.”'),\n",
       " Row(value=''),\n",
       " Row(value='“Now, Kitty, you may cough as much as you choose,” said Mr. Bennet; and,'),\n",
       " Row(value='as he spoke, he left the room, fatigued with the raptures of his wife.'),\n",
       " Row(value=''),\n",
       " Row(value='“What an excellent father you have, girls!” said she, when the door was'),\n",
       " Row(value='shut. “I do not know how you will ever make him amends for his kindness;'),\n",
       " Row(value='or me, either, for that matter. At our time of life it is not so'),\n",
       " Row(value='pleasant, I can tell you, to be making new acquaintances every day; but'),\n",
       " Row(value='for your sakes, we would do anything. Lydia, my love, though you _are_'),\n",
       " Row(value='the youngest, I dare say Mr. Bingley will dance with you at the next'),\n",
       " Row(value='ball.”'),\n",
       " Row(value=''),\n",
       " Row(value='“Oh!” said Lydia stoutly, “I am not afraid; for though I _am_ the'),\n",
       " Row(value=\"youngest, I'm the tallest.”\"),\n",
       " Row(value=''),\n",
       " Row(value='The rest of the evening was spent in conjecturing how soon he would'),\n",
       " Row(value=\"return Mr. Bennet's visit, and determining when they should ask him to\"),\n",
       " Row(value='dinner.'),\n",
       " Row(value=''),\n",
       " Row(value=''),\n",
       " Row(value=''),\n",
       " Row(value='Chapter 3'),\n",
       " Row(value=''),\n",
       " Row(value=''),\n",
       " Row(value='Not all that Mrs. Bennet, however, with the assistance of her five'),\n",
       " Row(value='daughters, could ask on the subject, was sufficient to draw from her'),\n",
       " Row(value='husband any satisfactory description of Mr. Bingley. They attacked him'),\n",
       " Row(value='in various ways--with barefaced questions, ingenious suppositions, and'),\n",
       " Row(value='distant surmises; but he eluded the skill of them all, and they were at'),\n",
       " Row(value='last obliged to accept the second-hand intelligence of their neighbour,'),\n",
       " Row(value='Lady Lucas. Her report was highly favourable. Sir William had been'),\n",
       " Row(value='delighted with him. He was quite young, wonderfully handsome, extremely'),\n",
       " Row(value='agreeable, and, to crown the whole, he meant to be at the next assembly'),\n",
       " Row(value='with a large party. Nothing could be more delightful! To be fond of'),\n",
       " Row(value='dancing was a certain step towards falling in love; and very lively'),\n",
       " Row(value=\"hopes of Mr. Bingley's heart were entertained.\"),\n",
       " Row(value=''),\n",
       " Row(value='“If I can but see one of my daughters happily settled at Netherfield,”'),\n",
       " Row(value=' said Mrs. Bennet to her husband, “and all the others equally well'),\n",
       " Row(value='married, I shall have nothing to wish for.”'),\n",
       " Row(value=''),\n",
       " Row(value=\"In a few days Mr. Bingley returned Mr. Bennet's visit, and sat about\"),\n",
       " Row(value='ten minutes with him in his library. He had entertained hopes of being'),\n",
       " Row(value='admitted to a sight of the young ladies, of whose beauty he had'),\n",
       " Row(value='heard much; but he saw only the father. The ladies were somewhat more'),\n",
       " Row(value='fortunate, for they had the advantage of ascertaining from an upper'),\n",
       " Row(value='window that he wore a blue coat, and rode a black horse.'),\n",
       " Row(value=''),\n",
       " Row(value='An invitation to dinner was soon afterwards dispatched; and already'),\n",
       " Row(value='had Mrs. Bennet planned the courses that were to do credit to her'),\n",
       " Row(value='housekeeping, when an answer arrived which deferred it all. Mr. Bingley'),\n",
       " Row(value='was obliged to be in town the following day, and, consequently, unable'),\n",
       " Row(value='to accept the honour of their invitation, etc. Mrs. Bennet was quite'),\n",
       " Row(value='disconcerted. She could not imagine what business he could have in town'),\n",
       " Row(value='so soon after his arrival in Hertfordshire; and she began to fear that'),\n",
       " Row(value='he might be always flying about from one place to another, and never'),\n",
       " Row(value='settled at Netherfield as he ought to be. Lady Lucas quieted her fears'),\n",
       " Row(value='a little by starting the idea of his being gone to London only to get'),\n",
       " Row(value='a large party for the ball; and a report soon followed that Mr. Bingley'),\n",
       " Row(value='was to bring twelve ladies and seven gentlemen with him to the assembly.'),\n",
       " Row(value='The girls grieved over such a number of ladies, but were comforted the'),\n",
       " Row(value='day before the ball by hearing, that instead of twelve he brought only'),\n",
       " Row(value='six with him from London--his five sisters and a cousin. And when'),\n",
       " Row(value='the party entered the assembly room it consisted of only five'),\n",
       " Row(value='altogether--Mr. Bingley, his two sisters, the husband of the eldest, and'),\n",
       " Row(value='another young man.'),\n",
       " Row(value=''),\n",
       " Row(value='Mr. Bingley was good-looking and gentlemanlike; he had a pleasant'),\n",
       " Row(value='countenance, and easy, unaffected manners. His sisters were fine women,'),\n",
       " Row(value='with an air of decided fashion. His brother-in-law, Mr. Hurst, merely'),\n",
       " Row(value='looked the gentleman; but his friend Mr. Darcy soon drew the attention'),\n",
       " Row(value='of the room by his fine, tall person, handsome features, noble mien, and'),\n",
       " Row(value='the report which was in general circulation within five minutes'),\n",
       " Row(value='after his entrance, of his having ten thousand a year. The gentlemen'),\n",
       " Row(value='pronounced him to be a fine figure of a man, the ladies declared he'),\n",
       " Row(value='was much handsomer than Mr. Bingley, and he was looked at with great'),\n",
       " Row(value='admiration for about half the evening, till his manners gave a disgust'),\n",
       " Row(value='which turned the tide of his popularity; for he was discovered to be'),\n",
       " Row(value='proud; to be above his company, and above being pleased; and not all'),\n",
       " Row(value='his large estate in Derbyshire could then save him from having a most'),\n",
       " Row(value='forbidding, disagreeable countenance, and being unworthy to be compared'),\n",
       " Row(value='with his friend.'),\n",
       " Row(value=''),\n",
       " Row(value='Mr. Bingley had soon made himself acquainted with all the principal'),\n",
       " Row(value='people in the room; he was lively and unreserved, danced every dance,'),\n",
       " Row(value='was angry that the ball closed so early, and talked of giving'),\n",
       " Row(value='one himself at Netherfield. Such amiable qualities must speak for'),\n",
       " Row(value='themselves. What a contrast between him and his friend! Mr. Darcy danced'),\n",
       " Row(value='only once with Mrs. Hurst and once with Miss Bingley, declined being'),\n",
       " Row(value='introduced to any other lady, and spent the rest of the evening in'),\n",
       " Row(value='walking about the room, speaking occasionally to one of his own party.'),\n",
       " Row(value='His character was decided. He was the proudest, most disagreeable man'),\n",
       " Row(value='in the world, and everybody hoped that he would never come there again.'),\n",
       " Row(value='Amongst the most violent against him was Mrs. Bennet, whose dislike of'),\n",
       " Row(value='his general behaviour was sharpened into particular resentment by his'),\n",
       " Row(value='having slighted one of her daughters.'),\n",
       " Row(value=''),\n",
       " Row(value='Elizabeth Bennet had been obliged, by the scarcity of gentlemen, to sit'),\n",
       " Row(value='down for two dances; and during part of that time, Mr. Darcy had been'),\n",
       " Row(value='standing near enough for her to hear a conversation between him and Mr.'),\n",
       " Row(value='Bingley, who came from the dance for a few minutes, to press his friend'),\n",
       " Row(value='to join it.'),\n",
       " Row(value=''),\n",
       " Row(value='“Come, Darcy,” said he, “I must have you dance. I hate to see you'),\n",
       " Row(value='standing about by yourself in this stupid manner. You had much better'),\n",
       " Row(value='dance.”'),\n",
       " Row(value=''),\n",
       " Row(value='“I certainly shall not. You know how I detest it, unless I am'),\n",
       " Row(value='particularly acquainted with my partner. At such an assembly as this'),\n",
       " Row(value='it would be insupportable. Your sisters are engaged, and there is not'),\n",
       " Row(value='another woman in the room whom it would not be a punishment to me to'),\n",
       " Row(value='stand up with.”'),\n",
       " Row(value=''),\n",
       " Row(value='“I would not be so fastidious as you are,” cried Mr. Bingley, “for a'),\n",
       " Row(value='kingdom! Upon my honour, I never met with so many pleasant girls in'),\n",
       " Row(value='my life as I have this evening; and there are several of them you see'),\n",
       " Row(value='uncommonly pretty.”'),\n",
       " Row(value=''),\n",
       " Row(value='“_You_ are dancing with the only handsome girl in the room,” said Mr.'),\n",
       " Row(value='Darcy, looking at the eldest Miss Bennet.'),\n",
       " Row(value=''),\n",
       " Row(value='“Oh! She is the most beautiful creature I ever beheld! But there is one'),\n",
       " Row(value='of her sisters sitting down just behind you, who is very pretty, and I'),\n",
       " Row(value='dare say very agreeable. Do let me ask my partner to introduce you.”'),\n",
       " Row(value=''),\n",
       " Row(value='“Which do you mean?” and turning round he looked for a moment at'),\n",
       " Row(value='Elizabeth, till catching her eye, he withdrew his own and coldly said:'),\n",
       " Row(value='“She is tolerable, but not handsome enough to tempt _me_; I am in no'),\n",
       " Row(value='humour at present to give consequence to young ladies who are slighted'),\n",
       " Row(value='by other men. You had better return to your partner and enjoy her'),\n",
       " Row(value='smiles, for you are wasting your time with me.”'),\n",
       " Row(value=''),\n",
       " Row(value='Mr. Bingley followed his advice. Mr. Darcy walked off; and Elizabeth'),\n",
       " Row(value='remained with no very cordial feelings toward him. She told the story,'),\n",
       " Row(value='however, with great spirit among her friends; for she had a lively,'),\n",
       " Row(value='playful disposition, which delighted in anything ridiculous.'),\n",
       " Row(value=''),\n",
       " Row(value='The evening altogether passed off pleasantly to the whole family. Mrs.'),\n",
       " Row(value='Bennet had seen her eldest daughter much admired by the Netherfield'),\n",
       " Row(value='party. Mr. Bingley had danced with her twice, and she had been'),\n",
       " Row(value='distinguished by his sisters. Jane was as much gratified by this as'),\n",
       " Row(value=\"her mother could be, though in a quieter way. Elizabeth felt Jane's\"),\n",
       " Row(value='pleasure. Mary had heard herself mentioned to Miss Bingley as the most'),\n",
       " Row(value='accomplished girl in the neighbourhood; and Catherine and Lydia had been'),\n",
       " Row(value='fortunate enough never to be without partners, which was all that they'),\n",
       " Row(value='had yet learnt to care for at a ball. They returned, therefore, in good'),\n",
       " Row(value='spirits to Longbourn, the village where they lived, and of which they'),\n",
       " Row(value='were the principal inhabitants. They found Mr. Bennet still up. With'),\n",
       " Row(value='a book he was regardless of time; and on the present occasion he had a'),\n",
       " Row(value='good deal of curiosity as to the event of an evening which had raised'),\n",
       " Row(value=\"such splendid expectations. He had rather hoped that his wife's views on\"),\n",
       " Row(value='the stranger would be disappointed; but he soon found out that he had a'),\n",
       " Row(value='different story to hear.'),\n",
       " Row(value=''),\n",
       " Row(value='“Oh! my dear Mr. Bennet,” as she entered the room, “we have had a most'),\n",
       " Row(value='delightful evening, a most excellent ball. I wish you had been there.'),\n",
       " Row(value='Jane was so admired, nothing could be like it. Everybody said how well'),\n",
       " Row(value='she looked; and Mr. Bingley thought her quite beautiful, and danced with'),\n",
       " Row(value='her twice! Only think of _that_, my dear; he actually danced with her'),\n",
       " Row(value='twice! and she was the only creature in the room that he asked a second'),\n",
       " Row(value='time. First of all, he asked Miss Lucas. I was so vexed to see him stand'),\n",
       " Row(value='up with her! But, however, he did not admire her at all; indeed, nobody'),\n",
       " Row(value='can, you know; and he seemed quite struck with Jane as she was going'),\n",
       " Row(value='down the dance. So he inquired who she was, and got introduced, and'),\n",
       " Row(value='asked her for the two next. Then the two third he danced with Miss King,'),\n",
       " Row(value='and the two fourth with Maria Lucas, and the two fifth with Jane again,'),\n",
       " Row(value='and the two sixth with Lizzy, and the _Boulanger_--”'),\n",
       " Row(value=''),\n",
       " Row(value='“If he had had any compassion for _me_,” cried her husband impatiently,'),\n",
       " Row(value=\"“he would not have danced half so much! For God's sake, say no more of\"),\n",
       " Row(value='his partners. Oh that he had sprained his ankle in the first dance!”'),\n",
       " Row(value=''),\n",
       " Row(value='“Oh! my dear, I am quite delighted with him. He is so excessively'),\n",
       " Row(value='handsome! And his sisters are charming women. I never in my life saw'),\n",
       " Row(value='anything more elegant than their dresses. I dare say the lace upon Mrs.'),\n",
       " Row(value=\"Hurst's gown--”\"),\n",
       " Row(value=''),\n",
       " Row(value='Here she was interrupted again. Mr. Bennet protested against any'),\n",
       " Row(value='description of finery. She was therefore obliged to seek another branch'),\n",
       " Row(value='of the subject, and related, with much bitterness of spirit and some'),\n",
       " Row(value='exaggeration, the shocking rudeness of Mr. Darcy.'),\n",
       " Row(value=''),\n",
       " Row(value='“But I can assure you,” she added, “that Lizzy does not lose much by not'),\n",
       " Row(value='suiting _his_ fancy; for he is a most disagreeable, horrid man, not at'),\n",
       " Row(value='all worth pleasing. So high and so conceited that there was no enduring'),\n",
       " Row(value='him! He walked here, and he walked there, fancying himself so very'),\n",
       " Row(value='great! Not handsome enough to dance with! I wish you had been there, my'),\n",
       " Row(value='dear, to have given him one of your set-downs. I quite detest the man.”'),\n",
       " Row(value=''),\n",
       " Row(value=''),\n",
       " Row(value=''),\n",
       " Row(value='Chapter 4'),\n",
       " Row(value=''),\n",
       " Row(value=''),\n",
       " Row(value='When Jane and Elizabeth were alone, the former, who had been cautious in'),\n",
       " Row(value='her praise of Mr. Bingley before, expressed to her sister just how very'),\n",
       " Row(value='much she admired him.'),\n",
       " Row(value=''),\n",
       " Row(value='“He is just what a young man ought to be,” said she, “sensible,'),\n",
       " Row(value='good-humoured, lively; and I never saw such happy manners!--so much'),\n",
       " Row(value='ease, with such perfect good breeding!”'),\n",
       " Row(value=''),\n",
       " Row(value='“He is also handsome,” replied Elizabeth, “which a young man ought'),\n",
       " Row(value='likewise to be, if he possibly can. His character is thereby complete.”'),\n",
       " Row(value=''),\n",
       " Row(value='“I was very much flattered by his asking me to dance a second time. I'),\n",
       " Row(value='did not expect such a compliment.”'),\n",
       " Row(value=''),\n",
       " Row(value='“Did not you? I did for you. But that is one great difference between'),\n",
       " Row(value='us. Compliments always take _you_ by surprise, and _me_ never. What'),\n",
       " Row(value='could be more natural than his asking you again? He could not help'),\n",
       " Row(value='seeing that you were about five times as pretty as every other woman'),\n",
       " Row(value='in the room. No thanks to his gallantry for that. Well, he certainly is'),\n",
       " Row(value='very agreeable, and I give you leave to like him. You have liked many a'),\n",
       " Row(value='stupider person.”'),\n",
       " Row(value=''),\n",
       " Row(value='“Dear Lizzy!”'),\n",
       " Row(value=''),\n",
       " Row(value='“Oh! you are a great deal too apt, you know, to like people in general.'),\n",
       " Row(value='You never see a fault in anybody. All the world are good and agreeable'),\n",
       " Row(value='in your eyes. I never heard you speak ill of a human being in your'),\n",
       " Row(value='life.”'),\n",
       " Row(value=''),\n",
       " Row(value='“I would not wish to be hasty in censuring anyone; but I always speak'),\n",
       " Row(value='what I think.”'),\n",
       " Row(value=''),\n",
       " Row(value='“I know you do; and it is _that_ which makes the wonder. With _your_'),\n",
       " Row(value='good sense, to be so honestly blind to the follies and nonsense of'),\n",
       " Row(value='others! Affectation of candour is common enough--one meets with it'),\n",
       " Row(value='everywhere. But to be candid without ostentation or design--to take the'),\n",
       " Row(value=\"good of everybody's character and make it still better, and say nothing\"),\n",
       " Row(value=\"of the bad--belongs to you alone. And so you like this man's sisters,\"),\n",
       " Row(value='too, do you? Their manners are not equal to his.”'),\n",
       " Row(value=''),\n",
       " Row(value='“Certainly not--at first. But they are very pleasing women when you'),\n",
       " Row(value='converse with them. Miss Bingley is to live with her brother, and keep'),\n",
       " Row(value='his house; and I am much mistaken if we shall not find a very charming'),\n",
       " Row(value='neighbour in her.”'),\n",
       " Row(value=''),\n",
       " Row(value='Elizabeth listened in silence, but was not convinced; their behaviour at'),\n",
       " Row(value='the assembly had not been calculated to please in general; and with more'),\n",
       " Row(value='quickness of observation and less pliancy of temper than her sister,'),\n",
       " Row(value='and with a judgement too unassailed by any attention to herself, she'),\n",
       " Row(value='was very little disposed to approve them. They were in fact very fine'),\n",
       " Row(value='ladies; not deficient in good humour when they were pleased, nor in the'),\n",
       " Row(value='power of making themselves agreeable when they chose it, but proud and'),\n",
       " Row(value='conceited. They were rather handsome, had been educated in one of the'),\n",
       " Row(value='first private seminaries in town, had a fortune of twenty thousand'),\n",
       " Row(value='pounds, were in the habit of spending more than they ought, and of'),\n",
       " Row(value='associating with people of rank, and were therefore in every respect'),\n",
       " Row(value='entitled to think well of themselves, and meanly of others. They were of'),\n",
       " Row(value='a respectable family in the north of England; a circumstance more deeply'),\n",
       " Row(value=\"impressed on their memories than that their brother's fortune and their\"),\n",
       " Row(value='own had been acquired by trade.'),\n",
       " Row(value=''),\n",
       " Row(value='Mr. Bingley inherited property to the amount of nearly a hundred'),\n",
       " Row(value='thousand pounds from his father, who had intended to purchase an'),\n",
       " Row(value='estate, but did not live to do it. Mr. Bingley intended it likewise, and'),\n",
       " Row(value='sometimes made choice of his county; but as he was now provided with a'),\n",
       " Row(value='good house and the liberty of a manor, it was doubtful to many of those'),\n",
       " Row(value='who best knew the easiness of his temper, whether he might not spend the'),\n",
       " Row(value='remainder of his days at Netherfield, and leave the next generation to'),\n",
       " Row(value='purchase.'),\n",
       " Row(value=''),\n",
       " Row(value='His sisters were anxious for his having an estate of his own; but,'),\n",
       " Row(value='though he was now only established as a tenant, Miss Bingley was by no'),\n",
       " Row(value='means unwilling to preside at his table--nor was Mrs. Hurst, who had'),\n",
       " Row(value='married a man of more fashion than fortune, less disposed to consider'),\n",
       " Row(value='his house as her home when it suited her. Mr. Bingley had not been of'),\n",
       " Row(value='age two years, when he was tempted by an accidental recommendation'),\n",
       " Row(value='to look at Netherfield House. He did look at it, and into it for'),\n",
       " Row(value='half-an-hour--was pleased with the situation and the principal'),\n",
       " Row(value='rooms, satisfied with what the owner said in its praise, and took it'),\n",
       " Row(value='immediately.'),\n",
       " Row(value=''),\n",
       " Row(value='Between him and Darcy there was a very steady friendship, in spite of'),\n",
       " Row(value='great opposition of character. Bingley was endeared to Darcy by the'),\n",
       " Row(value='easiness, openness, and ductility of his temper, though no disposition'),\n",
       " Row(value='could offer a greater contrast to his own, and though with his own he'),\n",
       " Row(value=\"never appeared dissatisfied. On the strength of Darcy's regard, Bingley\"),\n",
       " Row(value='had the firmest reliance, and of his judgement the highest opinion.'),\n",
       " Row(value='In understanding, Darcy was the superior. Bingley was by no means'),\n",
       " Row(value='deficient, but Darcy was clever. He was at the same time haughty,'),\n",
       " Row(value='reserved, and fastidious, and his manners, though well-bred, were not'),\n",
       " Row(value='inviting. In that respect his friend had greatly the advantage. Bingley'),\n",
       " Row(value='was sure of being liked wherever he appeared, Darcy was continually'),\n",
       " Row(value='giving offense.'),\n",
       " Row(value=''),\n",
       " Row(value='The manner in which they spoke of the Meryton assembly was sufficiently'),\n",
       " Row(value='characteristic. Bingley had never met with more pleasant people or'),\n",
       " Row(value='prettier girls in his life; everybody had been most kind and attentive'),\n",
       " Row(value='to him; there had been no formality, no stiffness; he had soon felt'),\n",
       " Row(value='acquainted with all the room; and, as to Miss Bennet, he could not'),\n",
       " Row(value='conceive an angel more beautiful. Darcy, on the contrary, had seen a'),\n",
       " Row(value='collection of people in whom there was little beauty and no fashion, for'),\n",
       " Row(value='none of whom he had felt the smallest interest, and from none received'),\n",
       " Row(value='either attention or pleasure. Miss Bennet he acknowledged to be pretty,'),\n",
       " Row(value='but she smiled too much.'),\n",
       " Row(value=''),\n",
       " Row(value='Mrs. Hurst and her sister allowed it to be so--but still they admired'),\n",
       " Row(value='her and liked her, and pronounced her to be a sweet girl, and one'),\n",
       " Row(value='whom they would not object to know more of. Miss Bennet was therefore'),\n",
       " Row(value='established as a sweet girl, and their brother felt authorized by such'),\n",
       " Row(value='commendation to think of her as he chose.'),\n",
       " Row(value=''),\n",
       " Row(value=''),\n",
       " Row(value=''),\n",
       " Row(value='Chapter 5'),\n",
       " Row(value=''),\n",
       " Row(value=''),\n",
       " Row(value='Within a short walk of Longbourn lived a family with whom the Bennets'),\n",
       " Row(value='were particularly intimate. Sir William Lucas had been formerly in trade'),\n",
       " Row(value='in Meryton, where he had made a tolerable fortune, and risen to the'),\n",
       " Row(value='honour of knighthood by an address to the king during his mayoralty.'),\n",
       " Row(value='The distinction had perhaps been felt too strongly. It had given him a'),\n",
       " Row(value='disgust to his business, and to his residence in a small market town;'),\n",
       " Row(value='and, in quitting them both, he had removed with his family to a house'),\n",
       " Row(value='about a mile from Meryton, denominated from that period Lucas Lodge,'),\n",
       " Row(value='where he could think with pleasure of his own importance, and,'),\n",
       " Row(value='unshackled by business, occupy himself solely in being civil to all'),\n",
       " Row(value='the world. For, though elated by his rank, it did not render him'),\n",
       " Row(value='supercilious; on the contrary, he was all attention to everybody. By'),\n",
       " Row(value='nature inoffensive, friendly, and obliging, his presentation at St.'),\n",
       " Row(value=\"James's had made him courteous.\"),\n",
       " Row(value=''),\n",
       " Row(value='Lady Lucas was a very good kind of woman, not too clever to be a'),\n",
       " Row(value='valuable neighbour to Mrs. Bennet. They had several children. The eldest'),\n",
       " Row(value='of them, a sensible, intelligent young woman, about twenty-seven, was'),\n",
       " Row(value=\"Elizabeth's intimate friend.\"),\n",
       " Row(value=''),\n",
       " Row(value='That the Miss Lucases and the Miss Bennets should meet to talk over'),\n",
       " Row(value='a ball was absolutely necessary; and the morning after the assembly'),\n",
       " Row(value='brought the former to Longbourn to hear and to communicate.'),\n",
       " Row(value=''),\n",
       " Row(value='“_You_ began the evening well, Charlotte,” said Mrs. Bennet with civil'),\n",
       " Row(value=\"self-command to Miss Lucas. “_You_ were Mr. Bingley's first choice.”\"),\n",
       " Row(value=''),\n",
       " Row(value='“Yes; but he seemed to like his second better.”'),\n",
       " Row(value=''),\n",
       " Row(value='“Oh! you mean Jane, I suppose, because he danced with her twice. To be'),\n",
       " Row(value='sure that _did_ seem as if he admired her--indeed I rather believe he'),\n",
       " Row(value='_did_--I heard something about it--but I hardly know what--something'),\n",
       " Row(value='about Mr. Robinson.”'),\n",
       " Row(value=''),\n",
       " Row(value='“Perhaps you mean what I overheard between him and Mr. Robinson; did not'),\n",
       " Row(value=\"I mention it to you? Mr. Robinson's asking him how he liked our Meryton\"),\n",
       " Row(value='assemblies, and whether he did not think there were a great many'),\n",
       " Row(value='pretty women in the room, and _which_ he thought the prettiest? and his'),\n",
       " Row(value=\"answering immediately to the last question: 'Oh! the eldest Miss Bennet,\"),\n",
       " Row(value=\"beyond a doubt; there cannot be two opinions on that point.'”\"),\n",
       " Row(value=''),\n",
       " Row(value='“Upon my word! Well, that is very decided indeed--that does seem as'),\n",
       " Row(value='if--but, however, it may all come to nothing, you know.”'),\n",
       " Row(value=''),\n",
       " Row(value='“_My_ overhearings were more to the purpose than _yours_, Eliza,” said'),\n",
       " Row(value='Charlotte. “Mr. Darcy is not so well worth listening to as his friend,'),\n",
       " Row(value='is he?--poor Eliza!--to be only just _tolerable_.”'),\n",
       " Row(value=''),\n",
       " Row(value=\"“I beg you would not put it into Lizzy's head to be vexed by his\"),\n",
       " Row(value='ill-treatment, for he is such a disagreeable man, that it would be quite'),\n",
       " Row(value='a misfortune to be liked by him. Mrs. Long told me last night that he'),\n",
       " Row(value='sat close to her for half-an-hour without once opening his lips.”'),\n",
       " Row(value=''),\n",
       " Row(value=\"“Are you quite sure, ma'am?--is not there a little mistake?” said Jane.\"),\n",
       " Row(value='“I certainly saw Mr. Darcy speaking to her.”'),\n",
       " Row(value=''),\n",
       " Row(value='“Aye--because she asked him at last how he liked Netherfield, and he'),\n",
       " Row(value='could not help answering her; but she said he seemed quite angry at'),\n",
       " Row(value='being spoke to.”'),\n",
       " Row(value=''),\n",
       " Row(value='“Miss Bingley told me,” said Jane, “that he never speaks much,'),\n",
       " Row(value='unless among his intimate acquaintances. With _them_ he is remarkably'),\n",
       " Row(value='agreeable.”'),\n",
       " Row(value=''),\n",
       " Row(value='“I do not believe a word of it, my dear. If he had been so very'),\n",
       " Row(value='agreeable, he would have talked to Mrs. Long. But I can guess how it'),\n",
       " Row(value='was; everybody says that he is eat up with pride, and I dare say he had'),\n",
       " Row(value='heard somehow that Mrs. Long does not keep a carriage, and had come to'),\n",
       " Row(value='the ball in a hack chaise.”'),\n",
       " Row(value=''),\n",
       " Row(value='“I do not mind his not talking to Mrs. Long,” said Miss Lucas, “but I'),\n",
       " Row(value='wish he had danced with Eliza.”'),\n",
       " Row(value=''),\n",
       " Row(value='“Another time, Lizzy,” said her mother, “I would not dance with _him_,'),\n",
       " Row(value='if I were you.”'),\n",
       " Row(value=''),\n",
       " Row(value=\"“I believe, ma'am, I may safely promise you _never_ to dance with him.”\"),\n",
       " Row(value=''),\n",
       " Row(value='“His pride,” said Miss Lucas, “does not offend _me_ so much as pride'),\n",
       " Row(value='often does, because there is an excuse for it. One cannot wonder that so'),\n",
       " Row(value='very fine a young man, with family, fortune, everything in his favour,'),\n",
       " Row(value='should think highly of himself. If I may so express it, he has a _right_'),\n",
       " Row(value='to be proud.”'),\n",
       " Row(value=''),\n",
       " Row(value='“That is very true,” replied Elizabeth, “and I could easily forgive'),\n",
       " Row(value='_his_ pride, if he had not mortified _mine_.”'),\n",
       " Row(value=''),\n",
       " Row(value='“Pride,” observed Mary, who piqued herself upon the solidity of her'),\n",
       " Row(value='reflections, “is a very common failing, I believe. By all that I have'),\n",
       " Row(value='ever read, I am convinced that it is very common indeed; that human'),\n",
       " Row(value='nature is particularly prone to it, and that there are very few of us'),\n",
       " Row(value='who do not cherish a feeling of self-complacency on the score of some'),\n",
       " Row(value='quality or other, real or imaginary. Vanity and pride are different'),\n",
       " Row(value='things, though the words are often used synonymously. A person may'),\n",
       " Row(value='be proud without being vain. Pride relates more to our opinion of'),\n",
       " Row(value='ourselves, vanity to what we would have others think of us.”'),\n",
       " Row(value=''),\n",
       " Row(value='“If I were as rich as Mr. Darcy,” cried a young Lucas, who came with'),\n",
       " Row(value='his sisters, “I should not care how proud I was. I would keep a pack of'),\n",
       " Row(value='foxhounds, and drink a bottle of wine a day.”'),\n",
       " Row(value=''),\n",
       " Row(value='“Then you would drink a great deal more than you ought,” said Mrs.'),\n",
       " Row(value='Bennet; “and if I were to see you at it, I should take away your bottle'),\n",
       " Row(value='directly.”'),\n",
       " Row(value=''),\n",
       " Row(value='The boy protested that she should not; she continued to declare that she'),\n",
       " Row(value='would, and the argument ended only with the visit.'),\n",
       " Row(value=''),\n",
       " Row(value=''),\n",
       " Row(value=''),\n",
       " Row(value='Chapter 6'),\n",
       " Row(value=''),\n",
       " Row(value=''),\n",
       " Row(value='The ladies of Longbourn soon waited on those of Netherfield. The visit'),\n",
       " Row(value=\"was soon returned in due form. Miss Bennet's pleasing manners grew on\"),\n",
       " Row(value='the goodwill of Mrs. Hurst and Miss Bingley; and though the mother was'),\n",
       " Row(value='found to be intolerable, and the younger sisters not worth speaking to,'),\n",
       " Row(value='a wish of being better acquainted with _them_ was expressed towards'),\n",
       " Row(value='the two eldest. By Jane, this attention was received with the greatest'),\n",
       " Row(value='pleasure, but Elizabeth still saw superciliousness in their treatment'),\n",
       " Row(value='of everybody, hardly excepting even her sister, and could not like them;'),\n",
       " Row(value='though their kindness to Jane, such as it was, had a value as arising in'),\n",
       " Row(value=\"all probability from the influence of their brother's admiration. It\"),\n",
       " Row(value='was generally evident whenever they met, that he _did_ admire her and'),\n",
       " Row(value='to _her_ it was equally evident that Jane was yielding to the preference'),\n",
       " Row(value='which she had begun to entertain for him from the first, and was in a'),\n",
       " Row(value='way to be very much in love; but she considered with pleasure that it'),\n",
       " Row(value='was not likely to be discovered by the world in general, since Jane'),\n",
       " Row(value='united, with great strength of feeling, a composure of temper and a'),\n",
       " Row(value='uniform cheerfulness of manner which would guard her from the suspicions'),\n",
       " Row(value='of the impertinent. She mentioned this to her friend Miss Lucas.'),\n",
       " Row(value=''),\n",
       " Row(value='“It may perhaps be pleasant,” replied Charlotte, “to be able to impose'),\n",
       " Row(value='on the public in such a case; but it is sometimes a disadvantage to be'),\n",
       " Row(value='so very guarded. If a woman conceals her affection with the same skill'),\n",
       " Row(value='from the object of it, she may lose the opportunity of fixing him; and'),\n",
       " Row(value='it will then be but poor consolation to believe the world equally in'),\n",
       " Row(value='the dark. There is so much of gratitude or vanity in almost every'),\n",
       " Row(value='attachment, that it is not safe to leave any to itself. We can all'),\n",
       " Row(value='_begin_ freely--a slight preference is natural enough; but there are'),\n",
       " Row(value='very few of us who have heart enough to be really in love without'),\n",
       " Row(value='encouragement. In nine cases out of ten a woman had better show _more_'),\n",
       " Row(value='affection than she feels. Bingley likes your sister undoubtedly; but he'),\n",
       " Row(value='may never do more than like her, if she does not help him on.”'),\n",
       " Row(value=''),\n",
       " Row(value='“But she does help him on, as much as her nature will allow. If I can'),\n",
       " Row(value='perceive her regard for him, he must be a simpleton, indeed, not to'),\n",
       " Row(value='discover it too.”'),\n",
       " Row(value=''),\n",
       " Row(value=\"“Remember, Eliza, that he does not know Jane's disposition as you do.”\"),\n",
       " Row(value=''),\n",
       " Row(value='“But if a woman is partial to a man, and does not endeavour to conceal'),\n",
       " Row(value='it, he must find it out.”'),\n",
       " Row(value=''),\n",
       " Row(value='“Perhaps he must, if he sees enough of her. But, though Bingley and Jane'),\n",
       " Row(value='meet tolerably often, it is never for many hours together; and, as they'),\n",
       " Row(value='always see each other in large mixed parties, it is impossible that'),\n",
       " Row(value='every moment should be employed in conversing together. Jane should'),\n",
       " Row(value='therefore make the most of every half-hour in which she can command his'),\n",
       " Row(value='attention. When she is secure of him, there will be more leisure for'),\n",
       " Row(value='falling in love as much as she chooses.”'),\n",
       " Row(value=''),\n",
       " Row(value='“Your plan is a good one,” replied Elizabeth, “where nothing is in'),\n",
       " Row(value='question but the desire of being well married, and if I were determined'),\n",
       " Row(value='to get a rich husband, or any husband, I dare say I should adopt it. But'),\n",
       " Row(value=\"these are not Jane's feelings; she is not acting by design. As yet,\"),\n",
       " Row(value='she cannot even be certain of the degree of her own regard nor of its'),\n",
       " Row(value='reasonableness. She has known him only a fortnight. She danced four'),\n",
       " Row(value='dances with him at Meryton; she saw him one morning at his own house,'),\n",
       " Row(value='and has since dined with him in company four times. This is not quite'),\n",
       " Row(value='enough to make her understand his character.”'),\n",
       " Row(value=''),\n",
       " Row(value='“Not as you represent it. Had she merely _dined_ with him, she might'),\n",
       " Row(value='only have discovered whether he had a good appetite; but you must'),\n",
       " Row(value='remember that four evenings have also been spent together--and four'),\n",
       " Row(value='evenings may do a great deal.”'),\n",
       " Row(value=''),\n",
       " Row(value='“Yes; these four evenings have enabled them to ascertain that they'),\n",
       " Row(value='both like Vingt-un better than Commerce; but with respect to any other'),\n",
       " Row(value='leading characteristic, I do not imagine that much has been unfolded.”'),\n",
       " Row(value=''),\n",
       " Row(value='“Well,” said Charlotte, “I wish Jane success with all my heart; and'),\n",
       " Row(value='if she were married to him to-morrow, I should think she had as good a'),\n",
       " Row(value='chance of happiness as if she were to be studying his character for a'),\n",
       " Row(value='twelvemonth. Happiness in marriage is entirely a matter of chance. If'),\n",
       " Row(value='the dispositions of the parties are ever so well known to each other or'),\n",
       " Row(value='ever so similar beforehand, it does not advance their felicity in the'),\n",
       " Row(value='least. They always continue to grow sufficiently unlike afterwards to'),\n",
       " Row(value='have their share of vexation; and it is better to know as little as'),\n",
       " Row(value='possible of the defects of the person with whom you are to pass your'),\n",
       " Row(value='life.”'),\n",
       " Row(value=''),\n",
       " Row(value='“You make me laugh, Charlotte; but it is not sound. You know it is not'),\n",
       " Row(value='sound, and that you would never act in this way yourself.”'),\n",
       " Row(value=''),\n",
       " Row(value=\"Occupied in observing Mr. Bingley's attentions to her sister, Elizabeth\"),\n",
       " Row(value='was far from suspecting that she was herself becoming an object of some'),\n",
       " Row(value='interest in the eyes of his friend. Mr. Darcy had at first scarcely'),\n",
       " Row(value='allowed her to be pretty; he had looked at her without admiration at the'),\n",
       " Row(value='ball; and when they next met, he looked at her only to criticise. But no'),\n",
       " Row(value='sooner had he made it clear to himself and his friends that she hardly'),\n",
       " Row(value='had a good feature in her face, than he began to find it was rendered'),\n",
       " Row(value='uncommonly intelligent by the beautiful expression of her dark eyes. To'),\n",
       " Row(value='this discovery succeeded some others equally mortifying. Though he had'),\n",
       " Row(value='detected with a critical eye more than one failure of perfect symmetry'),\n",
       " Row(value='in her form, he was forced to acknowledge her figure to be light and'),\n",
       " Row(value='pleasing; and in spite of his asserting that her manners were not those'),\n",
       " Row(value='of the fashionable world, he was caught by their easy playfulness. Of'),\n",
       " Row(value='this she was perfectly unaware; to her he was only the man who made'),\n",
       " Row(value='himself agreeable nowhere, and who had not thought her handsome enough'),\n",
       " Row(value='to dance with.'),\n",
       " Row(value=''),\n",
       " Row(value='He began to wish to know more of her, and as a step towards conversing'),\n",
       " Row(value='with her himself, attended to her conversation with others. His doing so'),\n",
       " Row(value=\"drew her notice. It was at Sir William Lucas's, where a large party were\"),\n",
       " Row(value='assembled.'),\n",
       " Row(value=''),\n",
       " Row(value='“What does Mr. Darcy mean,” said she to Charlotte, “by listening to my'),\n",
       " Row(value='conversation with Colonel Forster?”'),\n",
       " Row(value=''),\n",
       " Row(value='“That is a question which Mr. Darcy only can answer.”'),\n",
       " Row(value=''),\n",
       " Row(value='“But if he does it any more I shall certainly let him know that I see'),\n",
       " Row(value='what he is about. He has a very satirical eye, and if I do not begin by'),\n",
       " Row(value='being impertinent myself, I shall soon grow afraid of him.”'),\n",
       " Row(value=''),\n",
       " Row(value='On his approaching them soon afterwards, though without seeming to have'),\n",
       " Row(value='any intention of speaking, Miss Lucas defied her friend to mention such'),\n",
       " Row(value='a subject to him; which immediately provoking Elizabeth to do it, she'),\n",
       " Row(value='turned to him and said:'),\n",
       " Row(value=''),\n",
       " Row(value='“Did you not think, Mr. Darcy, that I expressed myself uncommonly'),\n",
       " Row(value='well just now, when I was teasing Colonel Forster to give us a ball at'),\n",
       " Row(value='Meryton?”'),\n",
       " Row(value=''),\n",
       " Row(value='“With great energy; but it is always a subject which makes a lady'),\n",
       " Row(value='energetic.”'),\n",
       " Row(value=''),\n",
       " Row(value='“You are severe on us.”'),\n",
       " Row(value=''),\n",
       " Row(value='“It will be _her_ turn soon to be teased,” said Miss Lucas. “I am going'),\n",
       " Row(value='to open the instrument, Eliza, and you know what follows.”'),\n",
       " Row(value=''),\n",
       " Row(value='“You are a very strange creature by way of a friend!--always wanting me'),\n",
       " Row(value='to play and sing before anybody and everybody! If my vanity had taken'),\n",
       " Row(value='a musical turn, you would have been invaluable; but as it is, I would'),\n",
       " Row(value='really rather not sit down before those who must be in the habit of'),\n",
       " Row(value=\"hearing the very best performers.” On Miss Lucas's persevering, however,\"),\n",
       " Row(value='she added, “Very well, if it must be so, it must.” And gravely glancing'),\n",
       " Row(value='at Mr. Darcy, “There is a fine old saying, which everybody here is of'),\n",
       " Row(value=\"course familiar with: 'Keep your breath to cool your porridge'; and I\"),\n",
       " Row(value='shall keep mine to swell my song.”'),\n",
       " Row(value=''),\n",
       " Row(value='Her performance was pleasing, though by no means capital. After a song'),\n",
       " Row(value='or two, and before she could reply to the entreaties of several that'),\n",
       " Row(value='she would sing again, she was eagerly succeeded at the instrument by her'),\n",
       " Row(value='sister Mary, who having, in consequence of being the only plain one in'),\n",
       " Row(value='the family, worked hard for knowledge and accomplishments, was always'),\n",
       " Row(value='impatient for display.'),\n",
       " Row(value=''),\n",
       " Row(value='Mary had neither genius nor taste; and though vanity had given her'),\n",
       " Row(value='application, it had given her likewise a pedantic air and conceited'),\n",
       " Row(value='manner, which would have injured a higher degree of excellence than she'),\n",
       " Row(value='had reached. Elizabeth, easy and unaffected, had been listened to with'),\n",
       " Row(value='much more pleasure, though not playing half so well; and Mary, at the'),\n",
       " Row(value='end of a long concerto, was glad to purchase praise and gratitude by'),\n",
       " Row(value='Scotch and Irish airs, at the request of her younger sisters, who,'),\n",
       " Row(value='with some of the Lucases, and two or three officers, joined eagerly in'),\n",
       " Row(value='dancing at one end of the room.'),\n",
       " Row(value=''),\n",
       " Row(value='Mr. Darcy stood near them in silent indignation at such a mode of'),\n",
       " Row(value='passing the evening, to the exclusion of all conversation, and was too'),\n",
       " Row(value='much engrossed by his thoughts to perceive that Sir William Lucas was'),\n",
       " Row(value='his neighbour, till Sir William thus began:'),\n",
       " Row(value=''),\n",
       " Row(value='“What a charming amusement for young people this is, Mr. Darcy! There'),\n",
       " Row(value='is nothing like dancing after all. I consider it as one of the first'),\n",
       " Row(value='refinements of polished society.”'),\n",
       " Row(value=''),\n",
       " Row(value='“Certainly, sir; and it has the advantage also of being in vogue amongst'),\n",
       " Row(value='the less polished societies of the world. Every savage can dance.”'),\n",
       " Row(value=''),\n",
       " Row(value='Sir William only smiled. “Your friend performs delightfully,” he'),\n",
       " Row(value='continued after a pause, on seeing Bingley join the group; “and I doubt'),\n",
       " Row(value='not that you are an adept in the science yourself, Mr. Darcy.”'),\n",
       " Row(value=''),\n",
       " Row(value='“You saw me dance at Meryton, I believe, sir.”'),\n",
       " Row(value=''),\n",
       " Row(value='“Yes, indeed, and received no inconsiderable pleasure from the sight. Do'),\n",
       " Row(value=\"you often dance at St. James's?”\"),\n",
       " Row(value=''),\n",
       " Row(value='“Never, sir.”'),\n",
       " Row(value=''),\n",
       " Row(value='“Do you not think it would be a proper compliment to the place?”'),\n",
       " Row(value=''),\n",
       " Row(value='“It is a compliment which I never pay to any place if I can avoid it.”'),\n",
       " Row(value=''),\n",
       " Row(value='“You have a house in town, I conclude?”'),\n",
       " Row(value=''),\n",
       " Row(value='Mr. Darcy bowed.'),\n",
       " Row(value=''),\n",
       " Row(value='“I had once had some thought of fixing in town myself--for I am fond'),\n",
       " Row(value='of superior society; but I did not feel quite certain that the air of'),\n",
       " Row(value='London would agree with Lady Lucas.”'),\n",
       " Row(value=''),\n",
       " Row(value='He paused in hopes of an answer; but his companion was not disposed'),\n",
       " Row(value='to make any; and Elizabeth at that instant moving towards them, he was'),\n",
       " Row(value='struck with the action of doing a very gallant thing, and called out to'),\n",
       " Row(value='her:'),\n",
       " Row(value=''),\n",
       " Row(value='“My dear Miss Eliza, why are you not dancing? Mr. Darcy, you must allow'),\n",
       " Row(value='me to present this young lady to you as a very desirable partner. You'),\n",
       " Row(value='cannot refuse to dance, I am sure when so much beauty is before you.”'),\n",
       " Row(value=' And, taking her hand, he would have given it to Mr. Darcy who, though'),\n",
       " Row(value='extremely surprised, was not unwilling to receive it, when she instantly'),\n",
       " Row(value='drew back, and said with some discomposure to Sir William:'),\n",
       " Row(value=''),\n",
       " Row(value='“Indeed, sir, I have not the least intention of dancing. I entreat you'),\n",
       " Row(value='not to suppose that I moved this way in order to beg for a partner.”'),\n",
       " Row(value=''),\n",
       " Row(value='Mr. Darcy, with grave propriety, requested to be allowed the honour of'),\n",
       " Row(value='her hand, but in vain. Elizabeth was determined; nor did Sir William at'),\n",
       " Row(value='all shake her purpose by his attempt at persuasion.'),\n",
       " Row(value=''),\n",
       " Row(value='“You excel so much in the dance, Miss Eliza, that it is cruel to deny'),\n",
       " Row(value='me the happiness of seeing you; and though this gentleman dislikes the'),\n",
       " Row(value='amusement in general, he can have no objection, I am sure, to oblige us'),\n",
       " Row(value='for one half-hour.”'),\n",
       " Row(value=''),\n",
       " Row(value='“Mr. Darcy is all politeness,” said Elizabeth, smiling.'),\n",
       " Row(value=''),\n",
       " Row(value='“He is, indeed; but, considering the inducement, my dear Miss Eliza,'),\n",
       " Row(value='we cannot wonder at his complaisance--for who would object to such a'),\n",
       " Row(value='partner?”'),\n",
       " Row(value=''),\n",
       " Row(value='Elizabeth looked archly, and turned away. Her resistance had not'),\n",
       " Row(value='injured her with the gentleman, and he was thinking of her with some'),\n",
       " Row(value='complacency, when thus accosted by Miss Bingley:'),\n",
       " Row(value=''),\n",
       " Row(value='“I can guess the subject of your reverie.”'),\n",
       " Row(value=''),\n",
       " Row(value='“I should imagine not.”'),\n",
       " Row(value=''),\n",
       " Row(value='“You are considering how insupportable it would be to pass many evenings'),\n",
       " Row(value='in this manner--in such society; and indeed I am quite of your opinion.'),\n",
       " Row(value='I was never more annoyed! The insipidity, and yet the noise--the'),\n",
       " Row(value='nothingness, and yet the self-importance of all those people! What would'),\n",
       " Row(value='I give to hear your strictures on them!”'),\n",
       " Row(value=''),\n",
       " Row(value='“Your conjecture is totally wrong, I assure you. My mind was more'),\n",
       " Row(value='agreeably engaged. I have been meditating on the very great pleasure'),\n",
       " Row(value='which a pair of fine eyes in the face of a pretty woman can bestow.”'),\n",
       " Row(value=''),\n",
       " Row(value='Miss Bingley immediately fixed her eyes on his face, and desired he'),\n",
       " Row(value='would tell her what lady had the credit of inspiring such reflections.'),\n",
       " Row(value='Mr. Darcy replied with great intrepidity:'),\n",
       " Row(value=''),\n",
       " Row(value='“Miss Elizabeth Bennet.”'),\n",
       " Row(value=''),\n",
       " Row(value='“Miss Elizabeth Bennet!” repeated Miss Bingley. “I am all astonishment.'),\n",
       " Row(value='How long has she been such a favourite?--and pray, when am I to wish you'),\n",
       " Row(value='joy?”'),\n",
       " Row(value=''),\n",
       " Row(value=\"“That is exactly the question which I expected you to ask. A lady's\"),\n",
       " Row(value='imagination is very rapid; it jumps from admiration to love, from love'),\n",
       " Row(value='to matrimony, in a moment. I knew you would be wishing me joy.”'),\n",
       " Row(value=''),\n",
       " Row(value='“Nay, if you are serious about it, I shall consider the matter is'),\n",
       " Row(value='absolutely settled. You will be having a charming mother-in-law, indeed;'),\n",
       " Row(value='and, of course, she will always be at Pemberley with you.”'),\n",
       " Row(value=''),\n",
       " Row(value='He listened to her with perfect indifference while she chose to'),\n",
       " Row(value='entertain herself in this manner; and as his composure convinced her'),\n",
       " Row(value='that all was safe, her wit flowed long.'),\n",
       " Row(value=''),\n",
       " Row(value=''),\n",
       " Row(value=''),\n",
       " Row(value='Chapter 7'),\n",
       " Row(value=''),\n",
       " Row(value=''),\n",
       " Row(value=\"Mr. Bennet's property consisted almost entirely in an estate of two\"),\n",
       " Row(value='thousand a year, which, unfortunately for his daughters, was entailed,'),\n",
       " Row(value=\"in default of heirs male, on a distant relation; and their mother's\"),\n",
       " Row(value='fortune, though ample for her situation in life, could but ill supply'),\n",
       " Row(value='the deficiency of his. Her father had been an attorney in Meryton, and'),\n",
       " Row(value='had left her four thousand pounds.'),\n",
       " Row(value=''),\n",
       " Row(value='She had a sister married to a Mr. Phillips, who had been a clerk to'),\n",
       " Row(value='their father and succeeded him in the business, and a brother settled in'),\n",
       " Row(value='London in a respectable line of trade.'),\n",
       " Row(value=''),\n",
       " Row(value='The village of Longbourn was only one mile from Meryton; a most'),\n",
       " Row(value='convenient distance for the young ladies, who were usually tempted'),\n",
       " Row(value='thither three or four times a week, to pay their duty to their aunt and'),\n",
       " Row(value=\"to a milliner's shop just over the way. The two youngest of the family,\"),\n",
       " Row(value='Catherine and Lydia, were particularly frequent in these attentions;'),\n",
       " Row(value=\"their minds were more vacant than their sisters', and when nothing\"),\n",
       " Row(value='better offered, a walk to Meryton was necessary to amuse their morning'),\n",
       " Row(value='hours and furnish conversation for the evening; and however bare of news'),\n",
       " Row(value='the country in general might be, they always contrived to learn some'),\n",
       " Row(value='from their aunt. At present, indeed, they were well supplied both with'),\n",
       " Row(value='news and happiness by the recent arrival of a militia regiment in the'),\n",
       " Row(value='neighbourhood; it was to remain the whole winter, and Meryton was the'),\n",
       " Row(value='headquarters.'),\n",
       " Row(value=''),\n",
       " Row(value='Their visits to Mrs. Phillips were now productive of the most'),\n",
       " Row(value='interesting intelligence. Every day added something to their knowledge'),\n",
       " Row(value=\"of the officers' names and connections. Their lodgings were not long a\"),\n",
       " Row(value='secret, and at length they began to know the officers themselves. Mr.'),\n",
       " Row(value='Phillips visited them all, and this opened to his nieces a store of'),\n",
       " Row(value='felicity unknown before. They could talk of nothing but officers; and'),\n",
       " Row(value=\"Mr. Bingley's large fortune, the mention of which gave animation\"),\n",
       " Row(value='to their mother, was worthless in their eyes when opposed to the'),\n",
       " Row(value='regimentals of an ensign.'),\n",
       " Row(value=''),\n",
       " Row(value='After listening one morning to their effusions on this subject, Mr.'),\n",
       " Row(value='Bennet coolly observed:'),\n",
       " Row(value=''),\n",
       " Row(value='“From all that I can collect by your manner of talking, you must be two'),\n",
       " Row(value='of the silliest girls in the country. I have suspected it some time, but'),\n",
       " Row(value='I am now convinced.”'),\n",
       " Row(value=''),\n",
       " Row(value='Catherine was disconcerted, and made no answer; but Lydia, with perfect'),\n",
       " Row(value='indifference, continued to express her admiration of Captain Carter,'),\n",
       " Row(value='and her hope of seeing him in the course of the day, as he was going the'),\n",
       " Row(value='next morning to London.'),\n",
       " Row(value=''),\n",
       " Row(value='“I am astonished, my dear,” said Mrs. Bennet, “that you should be so'),\n",
       " Row(value='ready to think your own children silly. If I wished to think slightingly'),\n",
       " Row(value=\"of anybody's children, it should not be of my own, however.”\"),\n",
       " Row(value=''),\n",
       " Row(value='“If my children are silly, I must hope to be always sensible of it.”'),\n",
       " Row(value=''),\n",
       " Row(value='“Yes--but as it happens, they are all of them very clever.”'),\n",
       " Row(value=''),\n",
       " Row(value='“This is the only point, I flatter myself, on which we do not agree. I'),\n",
       " Row(value='had hoped that our sentiments coincided in every particular, but I must'),\n",
       " Row(value='so far differ from you as to think our two youngest daughters uncommonly'),\n",
       " Row(value='foolish.”'),\n",
       " Row(value=''),\n",
       " Row(value='“My dear Mr. Bennet, you must not expect such girls to have the sense of'),\n",
       " Row(value='their father and mother. When they get to our age, I dare say they will'),\n",
       " Row(value='not think about officers any more than we do. I remember the time when'),\n",
       " Row(value='I liked a red coat myself very well--and, indeed, so I do still at my'),\n",
       " Row(value='heart; and if a smart young colonel, with five or six thousand a year,'),\n",
       " Row(value='should want one of my girls I shall not say nay to him; and I thought'),\n",
       " Row(value=\"Colonel Forster looked very becoming the other night at Sir William's in\"),\n",
       " Row(value='his regimentals.”'),\n",
       " Row(value=''),\n",
       " ...]"
      ]
     },
     "execution_count": 25,
     "metadata": {},
     "output_type": "execute_result"
    }
   ],
   "source": [
    "book.collect()"
   ]
  },
  {
   "cell_type": "markdown",
   "metadata": {},
   "source": [
    "The `show()` method takes three optional parameters:\n",
    "\n",
    "- `n` can be set to any positive integer and will display that number of rows.\n",
    "- `truncate`, if set to true, will truncate the columns to display only 20 characters. Set to False, it will display the whole length, or any positive integer to truncate to a specific number of characters.\n",
    "- `vertical` takes a Boolean value and, when set to True, will display each record as a small table. If you need to check records in detail, this is a very useful option. "
   ]
  },
  {
   "cell_type": "code",
   "execution_count": 26,
   "metadata": {},
   "outputs": [
    {
     "name": "stdout",
     "output_type": "stream",
     "text": [
      "+--------------------------------------------------+\n",
      "|                                             value|\n",
      "+--------------------------------------------------+\n",
      "|The Project Gutenberg EBook of Pride and Prejud...|\n",
      "|                                                  |\n",
      "|This eBook is for the use of anyone anywhere at...|\n",
      "|almost no restrictions whatsoever.  You may cop...|\n",
      "|re-use it under the terms of the Project Gutenb...|\n",
      "|    with this eBook or online at www.gutenberg.org|\n",
      "|                                                  |\n",
      "|                                                  |\n",
      "|                        Title: Pride and Prejudice|\n",
      "|                                                  |\n",
      "+--------------------------------------------------+\n",
      "only showing top 10 rows\n",
      "\n"
     ]
    }
   ],
   "source": [
    "book.show(10, truncate=50)"
   ]
  },
  {
   "cell_type": "markdown",
   "metadata": {},
   "source": [
    "Together, `show()` and `printSchema()` give you a complete overview of the structure and the content of the data frame. It’s no surprise that those will be the methods you will reach for most often when building a data analysis at the REPL.\n",
    "\n",
    "We can now start the real work: performing transformations on the data frame to accomplish our goal. Let’s take some time to review the five steps we outlined at the beginning of the chapter:\n",
    "\n",
    "- [DONE]Read—Read the input data (we’re assuming a plain text file).\n",
    "- Token—Tokenize each word.\n",
    "- Clean—Remove any punctuation and/or tokens that aren’t words. Lowercase each word.\n",
    "- Count—Count the frequency of each word present in the text.\n",
    "- Answer—Return the top 10 (or 20, 50, 100).\n"
   ]
  },
  {
   "cell_type": "markdown",
   "metadata": {},
   "source": [
    "## Simple column transformations: Moving from a sentence to a list of words"
   ]
  },
  {
   "cell_type": "markdown",
   "metadata": {},
   "source": [
    "When ingesting our selected text into a data frame, PySpark created one record for each line of text and provided a `value` column of type `String`. To tokenize each word, we need to split each string into a list of distinct words. This section covers simple transformations using `select()`. We will split our lines of text into words so we can count them.\n",
    "\n",
    "Because PySpark’s code can be pretty self-explanatory, I start by providing the code in one fell swoop, and then we’ll break down each step one at a time. You can see it in all its glory in the next listing.\n"
   ]
  },
  {
   "cell_type": "code",
   "execution_count": 27,
   "metadata": {},
   "outputs": [
    {
     "name": "stdout",
     "output_type": "stream",
     "text": [
      "+--------------------------------------------------+\n",
      "|                                              line|\n",
      "+--------------------------------------------------+\n",
      "|[The, Project, Gutenberg, EBook, of, Pride, and...|\n",
      "|                                                []|\n",
      "|[This, eBook, is, for, the, use, of, anyone, an...|\n",
      "|[almost, no, restrictions, whatsoever., , You, ...|\n",
      "|[re-use, it, under, the, terms, of, the, Projec...|\n",
      "+--------------------------------------------------+\n",
      "only showing top 5 rows\n",
      "\n"
     ]
    }
   ],
   "source": [
    "from pyspark.sql.functions import split\n",
    "\n",
    "lines = book.select(split(book.value, \" \").alias(\"line\"))\n",
    "\n",
    "lines.show(5, truncate=50)\n"
   ]
  },
  {
   "cell_type": "markdown",
   "metadata": {},
   "source": [
    "## Selecting specific columns using `select()` \n",
    "\n",
    "This section will introduce the most basic functionality of `select()`, which is to select one or more columns from your data frame. It’s a conceptually very simple method but provides the foundation for many additional operations on your data.\n",
    "\n",
    "In PySpark’s world, a data frame is made out of `Column` objects, and you perform transformations on them. The most basic transformation is the identity, where you return exactly what was provided to you. If you’ve used SQL in the past, you might think that this sounds like a `SELECT` statement, and you’d be right! You also get a free pass: the method name is also conveniently named `select()`.\n"
   ]
  },
  {
   "cell_type": "code",
   "execution_count": 28,
   "metadata": {},
   "outputs": [
    {
     "data": {
      "text/plain": [
       "DataFrame[value: string]"
      ]
     },
     "execution_count": 28,
     "metadata": {},
     "output_type": "execute_result"
    }
   ],
   "source": [
    "book.select(book.value)"
   ]
  },
  {
   "cell_type": "markdown",
   "metadata": {},
   "source": [
    "PySpark provides more than one way to select columns. I display the four most common in the next listing."
   ]
  },
  {
   "cell_type": "code",
   "execution_count": 29,
   "metadata": {},
   "outputs": [
    {
     "data": {
      "text/plain": [
       "DataFrame[value: string]"
      ]
     },
     "execution_count": 29,
     "metadata": {},
     "output_type": "execute_result"
    }
   ],
   "source": [
    "from pyspark.sql.functions import col\n",
    " \n",
    "book.select(book.value)\n",
    "book.select(book[\"value\"])\n",
    "book.select(col(\"value\"))\n",
    "book.select(\"value\")"
   ]
  },
  {
   "cell_type": "markdown",
   "metadata": {},
   "source": [
    "The third one uses the `col` function from the `pyspark.sql.functions` module. The main difference here is that you don’t specify that the column comes from the book data frame. This will become very useful when working with more complex data pipelines in part 2 of the book. I’ll use the `col` object as much as I can since I consider its usage more idiomatic and it’ll prepare us for more complex use cases, such as performing column transformation (see chapter 4 and 5).\n",
    "\n",
    "Finally, the fourth one only uses the name of the column as a string. PySpark is smart enough to infer that we mean a column here. For simple select statements (and other methods that I’ll cover later), using the name of the column directly can be a viable option. That being said, it’s not as flexible as the other options, and the moment your code requires column transformations, like in section 2.4.2, you’ll have to use another option."
   ]
  },
  {
   "cell_type": "code",
   "execution_count": 30,
   "metadata": {},
   "outputs": [
    {
     "name": "stdout",
     "output_type": "stream",
     "text": [
      "<class 'pyspark.sql.column.Column'>\n"
     ]
    },
    {
     "data": {
      "text/plain": [
       "['alias',\n",
       " 'asc',\n",
       " 'asc_nulls_first',\n",
       " 'asc_nulls_last',\n",
       " 'astype',\n",
       " 'between',\n",
       " 'bitwiseAND',\n",
       " 'bitwiseOR',\n",
       " 'bitwiseXOR',\n",
       " 'cast',\n",
       " 'contains',\n",
       " 'desc',\n",
       " 'desc_nulls_first',\n",
       " 'desc_nulls_last',\n",
       " 'dropFields',\n",
       " 'endswith',\n",
       " 'eqNullSafe',\n",
       " 'getField',\n",
       " 'getItem',\n",
       " 'isNotNull',\n",
       " 'isNull',\n",
       " 'isin',\n",
       " 'like',\n",
       " 'name',\n",
       " 'otherwise',\n",
       " 'over',\n",
       " 'rlike',\n",
       " 'startswith',\n",
       " 'substr',\n",
       " 'when',\n",
       " 'withField']"
      ]
     },
     "execution_count": 30,
     "metadata": {},
     "output_type": "execute_result"
    }
   ],
   "source": [
    "print(type(col(\"value\")))\n",
    "[m for m in dir(col(\"value\")) if not m.startswith(\"_\")]"
   ]
  },
  {
   "cell_type": "code",
   "execution_count": 31,
   "metadata": {},
   "outputs": [
    {
     "name": "stdout",
     "output_type": "stream",
     "text": [
      "+-----------+\n",
      "|value LIKE |\n",
      "+-----------+\n",
      "|      false|\n",
      "|       true|\n",
      "|      false|\n",
      "|      false|\n",
      "|      false|\n",
      "|      false|\n",
      "|       true|\n",
      "|       true|\n",
      "|      false|\n",
      "|       true|\n",
      "|      false|\n",
      "|       true|\n",
      "|      false|\n",
      "|      false|\n",
      "|      false|\n",
      "|       true|\n",
      "|      false|\n",
      "|       true|\n",
      "|      false|\n",
      "|       true|\n",
      "+-----------+\n",
      "only showing top 20 rows\n",
      "\n"
     ]
    }
   ],
   "source": [
    "# col() is more powerful than all the other methods if you want to work with the column!\n",
    "book.select(col(\"value\").like(\"\")).show()"
   ]
  },
  {
   "cell_type": "markdown",
   "metadata": {},
   "source": [
    "## Transforming columns: Splitting a string into a list of words\n",
    "\n",
    "PySpark provides a `split()` function in the `pyspark.sql.functions` module for splitting a longer string into a list of shorter strings. The most popular use case for this function is to split a sentence into words. The `split()` function takes two or three parameters:\n",
    "\n",
    "- A `column` object containing `strings`\n",
    "- A **Java regular expression** delimiter to split the strings against\n",
    "- An optional integer about how many times we apply the delimiter (not used here)"
   ]
  },
  {
   "cell_type": "code",
   "execution_count": 32,
   "metadata": {},
   "outputs": [
    {
     "data": {
      "text/plain": [
       "DataFrame[split(value,  , -1): array<string>]"
      ]
     },
     "execution_count": 32,
     "metadata": {},
     "output_type": "execute_result"
    }
   ],
   "source": [
    "from pyspark.sql.functions import col, split\n",
    " \n",
    "lines = book.select(split(col(\"value\"), \" \"))\n",
    " \n",
    "lines"
   ]
  },
  {
   "cell_type": "code",
   "execution_count": 33,
   "metadata": {},
   "outputs": [
    {
     "name": "stdout",
     "output_type": "stream",
     "text": [
      "root\n",
      " |-- split(value,  , -1): array (nullable = true)\n",
      " |    |-- element: string (containsNull = true)\n",
      "\n"
     ]
    }
   ],
   "source": [
    "lines.printSchema()"
   ]
  },
  {
   "cell_type": "code",
   "execution_count": 34,
   "metadata": {},
   "outputs": [
    {
     "name": "stdout",
     "output_type": "stream",
     "text": [
      "+--------------------------------------------------+\n",
      "|                               split(value,  , -1)|\n",
      "+--------------------------------------------------+\n",
      "|[The, Project, Gutenberg, EBook, of, Pride, and...|\n",
      "|                                                []|\n",
      "|[This, eBook, is, for, the, use, of, anyone, an...|\n",
      "|[almost, no, restrictions, whatsoever., , You, ...|\n",
      "|[re-use, it, under, the, terms, of, the, Projec...|\n",
      "|[with, this, eBook, or, online, at, www.gutenbe...|\n",
      "|                                                []|\n",
      "|                                                []|\n",
      "|                   [Title:, Pride, and, Prejudice]|\n",
      "|                                                []|\n",
      "|                           [Author:, Jane, Austen]|\n",
      "|                                                []|\n",
      "|[Posting, Date:, August, 26,, 2008, [EBook, #13...|\n",
      "|                     [Release, Date:, June,, 1998]|\n",
      "|                [Last, Updated:, March, 10,, 2018]|\n",
      "|                                                []|\n",
      "|                              [Language:, English]|\n",
      "|                                                []|\n",
      "|                [Character, set, encoding:, UTF-8]|\n",
      "|                                                []|\n",
      "+--------------------------------------------------+\n",
      "only showing top 20 rows\n",
      "\n"
     ]
    }
   ],
   "source": [
    "lines.show(truncate=50)"
   ]
  },
  {
   "cell_type": "markdown",
   "metadata": {},
   "source": [
    "The `split` functions transformed our string column into an array column, containing one or more string elements. This is what we were expecting: even before looking at the data, seeing that the structure behaves according to plan is a good way to sanity-check our code.\n",
    "\n",
    "Looking at the five rows we’ve printed, we can see that our values are now separated by a comma and wrapped in square brackets, which is how PySpark visually represents an array. The second record is empty, so we just see `[]`, an empty array.\n"
   ]
  },
  {
   "cell_type": "markdown",
   "metadata": {},
   "source": [
    "PySpark’s built-in functions for data manipulations are extremely useful, and you should spend a little bit of time going over the API documentation (http://spark.apache.org/docs/latest/api/python/) to see what’s available at core functionality. If you don’t find exactly what you’re after, chapter 6 covers how you can create your function over `Column` objects, and gives a deeper look into PySpark’s complex data types like the array. **Built-in PySpark functions are as performant as plain Spark** (in Java and Scala), as they map directly to a JVM function. (See the following sidebar for more information.)"
   ]
  },
  {
   "cell_type": "markdown",
   "metadata": {},
   "source": [
    "With our lines of text now tokenized into words, there is a little annoyance present: Spark gave a very unintuitive name `(split(value, , -1))` to our column. The next section addresses how we can rename transformed columns to our liking so we can explicitly control our columns’ naming schema. "
   ]
  },
  {
   "cell_type": "markdown",
   "metadata": {},
   "source": [
    "## Renaming columns: alias and withColumnRenamed\n",
    "\n",
    "When performing a transformation on your columns, PySpark will give a default name to the resulting column. In our case, we were blessed by the `split(value, , -1)` name after splitting our value column, using a space as the delimiter. While accurate, it’s not programmer-friendly. This section provides a blueprint to rename columns, both newly created and existing, using `alias()` and `withColumnRenamed()`.\n",
    "\n",
    "There is an implicit assumption that you’ll want to rename the resulting column yourself, using the `alias()` method. Its usage isn’t very complicated: when applied to a column, it takes a single parameter and returns the column it was applied to, with the new name. A simple demonstration is provided in the next listing.\n"
   ]
  },
  {
   "cell_type": "code",
   "execution_count": 35,
   "metadata": {},
   "outputs": [
    {
     "name": "stdout",
     "output_type": "stream",
     "text": [
      "+--------------------+\n",
      "| split(value,  , -1)|\n",
      "+--------------------+\n",
      "|[The, Project, Gu...|\n",
      "|                  []|\n",
      "|[This, eBook, is,...|\n",
      "|[almost, no, rest...|\n",
      "|[re-use, it, unde...|\n",
      "+--------------------+\n",
      "only showing top 5 rows\n",
      "\n"
     ]
    }
   ],
   "source": [
    "book.select(split(\"value\", \" \")).show(5)  #  or printSchema as an alternative"
   ]
  },
  {
   "cell_type": "code",
   "execution_count": 36,
   "metadata": {},
   "outputs": [
    {
     "name": "stdout",
     "output_type": "stream",
     "text": [
      "+--------------------+\n",
      "|                line|\n",
      "+--------------------+\n",
      "|[The, Project, Gu...|\n",
      "|                  []|\n",
      "|[This, eBook, is,...|\n",
      "|[almost, no, rest...|\n",
      "|[re-use, it, unde...|\n",
      "+--------------------+\n",
      "only showing top 5 rows\n",
      "\n"
     ]
    }
   ],
   "source": [
    "book.select(split(\"value\", \" \").alias(\"line\")).show(5)  #  or printSchema as an alternative"
   ]
  },
  {
   "cell_type": "markdown",
   "metadata": {},
   "source": [
    "When writing your code, choosing between those two options is pretty easy:\n",
    "\n",
    "- When you’re using a method where you’re specifying which columns you want to appear, like the `select()` method, use `alias()`.\n",
    "- If you just want to rename a column without changing the rest of the data frame, use `.withColumnRenamed`. Note that, should the column not exist, PySpark will treat this method as a no-op and not perform anything.\n"
   ]
  },
  {
   "cell_type": "code",
   "execution_count": 37,
   "metadata": {},
   "outputs": [],
   "source": [
    "# This looks a lot cleaner\n",
    "lines = book.select(split(book.value, \" \").alias(\"line\"))\n",
    "\n",
    "# This is messier, and you have to remember the name PySpark assigns automatically\n",
    "lines = book.select(split(book.value, \" \"))\n",
    "lines = lines.withColumnRenamed(\"split(value,  , -1)\", \"line\")"
   ]
  },
  {
   "cell_type": "markdown",
   "metadata": {},
   "source": [
    "This section introduced a new set of PySpark fundamentals: we learned how to select not only plain columns but also column transformations. We also learned how to explicitly name the resulting columns, avoiding PySpark’s predictable but jarring naming convention. Now we can move forward with the remainder of the operations. If we look at our five steps, we’re halfway done with step 2. We have a list of words, but we need each token or word to be its own record:\n",
    "\n",
    "- [DONE]Read—Read the input data (we’re assuming a plain text file).\n",
    "- [IN PROGRESS]Token—Tokenize each word.\n",
    "- Clean—Remove any punctuation and/or tokens that aren’t words. Lowercase each word.\n",
    "- Count—Count the frequency of each word present in the text.\n",
    "- Answer—Return the top 10 (or 20, 50, 100). "
   ]
  },
  {
   "cell_type": "markdown",
   "metadata": {},
   "source": [
    "## Reshaping your data: Exploding a list into rows\n",
    "\n",
    "Enter the `explode()` function. When applied to a column containing a container-like data structure (such as an array), it’ll take each element and give it its own row. This is much easier explained visually rather than using words, and figure 2.4 explains the process.\n",
    "\n",
    "![](https://drek4537l1klr.cloudfront.net/rioux/Figures/02-04.png)"
   ]
  },
  {
   "cell_type": "markdown",
   "metadata": {},
   "source": [
    "The code follows the same structure as `split()`, and you can see the results in the next listing. We now have a data frame containing, at most, one word per row. We are almost there!"
   ]
  },
  {
   "cell_type": "code",
   "execution_count": 38,
   "metadata": {},
   "outputs": [
    {
     "name": "stdout",
     "output_type": "stream",
     "text": [
      "+----------+\n",
      "|      word|\n",
      "+----------+\n",
      "|       The|\n",
      "|   Project|\n",
      "| Gutenberg|\n",
      "|     EBook|\n",
      "|        of|\n",
      "|     Pride|\n",
      "|       and|\n",
      "|Prejudice,|\n",
      "|        by|\n",
      "|      Jane|\n",
      "|    Austen|\n",
      "|          |\n",
      "|      This|\n",
      "|     eBook|\n",
      "|        is|\n",
      "+----------+\n",
      "only showing top 15 rows\n",
      "\n"
     ]
    }
   ],
   "source": [
    "from pyspark.sql.functions import explode, col\n",
    " \n",
    "words = lines.select(explode(col(\"line\")).alias(\"word\"))\n",
    " \n",
    "words.show(15)"
   ]
  },
  {
   "cell_type": "markdown",
   "metadata": {},
   "source": [
    "Looking back at our five steps, we can now conclude step 2, and our words are tokenized. Let’s attack the third one, where we’ll clean our words to simplify the counting:\n",
    "\n",
    "- [DONE]Read—Read the input data (we’re assuming a plain text file).\n",
    "- [DONE]Token—Tokenize each word.\n",
    "- Clean—Remove any punctuation and/or tokens that aren’t words. Lowercase each word.\n",
    "- Count—Count the frequency of each word present in the text.\n",
    "- Answer—Return the top 10 (or 20, 50, 100). "
   ]
  },
  {
   "cell_type": "markdown",
   "metadata": {},
   "source": [
    "## Working with words: Changing case and removing punctuation\n",
    "\n",
    "So far, with `split()` and `explode()` our pattern has been the following: find the relevant function in `pyspark.sql.functions`, apply it, profit! This section will use the same winning formula to normalize the case of our words and remove punctuation, so I’ll focus on the functions’ behavior rather than on how to apply them. This section takes care of lowering the case (using the `lower()` function) and removing punctuation through the usage of a regular expression."
   ]
  },
  {
   "cell_type": "markdown",
   "metadata": {},
   "source": [
    "Let’s get right to it. Listing 2.17 contains the source code to lower the case of all the words in the data frame. The code should look very familiar: we select a column transformed by `lower`, a PySpark function lowering the case of the data inside the column passed as a parameter. We then alias the resulting column to `word_lower` to avoid PySpark’s default nomenclature."
   ]
  },
  {
   "cell_type": "code",
   "execution_count": 39,
   "metadata": {},
   "outputs": [
    {
     "name": "stdout",
     "output_type": "stream",
     "text": [
      "+----------+\n",
      "|word_lower|\n",
      "+----------+\n",
      "|       the|\n",
      "|   project|\n",
      "| gutenberg|\n",
      "|     ebook|\n",
      "|        of|\n",
      "|     pride|\n",
      "|       and|\n",
      "|prejudice,|\n",
      "|        by|\n",
      "|      jane|\n",
      "|    austen|\n",
      "|          |\n",
      "|      this|\n",
      "|     ebook|\n",
      "|        is|\n",
      "|       for|\n",
      "|       the|\n",
      "|       use|\n",
      "|        of|\n",
      "|    anyone|\n",
      "+----------+\n",
      "only showing top 20 rows\n",
      "\n"
     ]
    }
   ],
   "source": [
    "from pyspark.sql.functions import lower\n",
    "\n",
    "words_lower = words.select(lower(col(\"word\")).alias(\"word_lower\"))\n",
    " \n",
    "words_lower.show()"
   ]
  },
  {
   "cell_type": "markdown",
   "metadata": {},
   "source": [
    "Next, we want to clean our words of any punctuation and other non-useful characters; in this case, we’ll keep only the letters using a regular expression (see the end of the section for a reference on regular expressions [or regex]). This can be a little trickier: we won’t improvise a full NLP (Natural Language Processing) library here, and instead rely on the functionality PySpark provides in its data manipulation toolbox. In the spirit of keeping this exercise simple, we’ll keep the first contiguous group of letters as the word, and remove the rest. It will effectively remove punctuation, quotation marks, and other symbols, at the expense of being less robust with more exotic word construction. The next listing shows the code in all its splendor."
   ]
  },
  {
   "cell_type": "code",
   "execution_count": 40,
   "metadata": {},
   "outputs": [
    {
     "name": "stdout",
     "output_type": "stream",
     "text": [
      "+---------+\n",
      "|     word|\n",
      "+---------+\n",
      "|      the|\n",
      "|  project|\n",
      "|gutenberg|\n",
      "|    ebook|\n",
      "|       of|\n",
      "|    pride|\n",
      "|      and|\n",
      "|prejudice|\n",
      "|       by|\n",
      "|     jane|\n",
      "|   austen|\n",
      "|         |\n",
      "|     this|\n",
      "|    ebook|\n",
      "|       is|\n",
      "|      for|\n",
      "|      the|\n",
      "|      use|\n",
      "|       of|\n",
      "|   anyone|\n",
      "+---------+\n",
      "only showing top 20 rows\n",
      "\n"
     ]
    }
   ],
   "source": [
    "from pyspark.sql.functions import regexp_extract\n",
    "\n",
    "words_clean = words_lower.select(\n",
    "    regexp_extract(col(\"word_lower\"), \"[a-z]+\", 0).alias(\"word\")\n",
    ")\n",
    "\n",
    "words_clean.show()\n"
   ]
  },
  {
   "cell_type": "markdown",
   "metadata": {},
   "source": [
    "Our data frame of words looks pretty regular by now, except for the empty cell between austen and this. In the next section, we cover the filtering operation by removing any empty records."
   ]
  },
  {
   "cell_type": "markdown",
   "metadata": {},
   "source": [
    "## Exercise 2.1\n",
    "\n",
    "Given the following `exo_2_1_df` data frame, how many records will the `solution_ 2_1_df` data frame contain? (Note: No need to write code to solve this problem.)\n"
   ]
  },
  {
   "cell_type": "code",
   "execution_count": 41,
   "metadata": {},
   "outputs": [
    {
     "name": "stdout",
     "output_type": "stream",
     "text": [
      "+-------------------+\n",
      "|            numbers|\n",
      "+-------------------+\n",
      "|    [1, 2, 3, 4, 5]|\n",
      "|[5, 6, 7, 8, 9, 10]|\n",
      "+-------------------+\n",
      "\n"
     ]
    }
   ],
   "source": [
    "from pyspark.sql.functions import explode, col\n",
    "\n",
    "exo_2_1_df = spark.createDataFrame([{\"numbers\": [1,2,3,4,5]}, {\"numbers\": [5,6,7,8,9,10]}])\n",
    "\n",
    "\n",
    "exo_2_1_df.show()\n",
    " \n",
    "# +-------------------+\n",
    "# |            numbers|\n",
    "# +-------------------+\n",
    "# |    [1, 2, 3, 4, 5]|\n",
    "# |[5, 6, 7, 8, 9, 10]|\n",
    "# +-------------------+\n",
    " \n",
    "solution_2_1_df = exo_2_1_df.select(explode(col(\"numbers\")).alias(\"numbers\"))"
   ]
  },
  {
   "cell_type": "code",
   "execution_count": 42,
   "metadata": {},
   "outputs": [
    {
     "data": {
      "text/plain": [
       "[Row(numbers=1),\n",
       " Row(numbers=2),\n",
       " Row(numbers=3),\n",
       " Row(numbers=4),\n",
       " Row(numbers=5),\n",
       " Row(numbers=5),\n",
       " Row(numbers=6),\n",
       " Row(numbers=7),\n",
       " Row(numbers=8),\n",
       " Row(numbers=9),\n",
       " Row(numbers=10)]"
      ]
     },
     "execution_count": 42,
     "metadata": {},
     "output_type": "execute_result"
    }
   ],
   "source": [
    "solution_2_1_df.collect()"
   ]
  },
  {
   "cell_type": "code",
   "execution_count": 43,
   "metadata": {},
   "outputs": [
    {
     "data": {
      "text/plain": [
       "11"
      ]
     },
     "execution_count": 43,
     "metadata": {},
     "output_type": "execute_result"
    }
   ],
   "source": [
    "solution_2_1_df.count()"
   ]
  },
  {
   "cell_type": "markdown",
   "metadata": {},
   "source": [
    "## Filtering rows\n",
    "\n",
    "Conceptually, we should be able to provide a test to perform on each record. If it returns true, we keep the record. False? You’re out! PySpark provides not one, but two identical methods to perform this task. You can use either `.filter()` or its alias `.where()`. This duplication is to ease the transition for users coming from other data-processing engines or libraries; some use one, some the other. PySpark provides both, so no arguments are possible! I prefer `filter()`, because `w` maps to more data frame methods (`withColumn()` in chapter 4 or `withColumnRenamed()` in chapter 3). If we look at the next listing, we can see that columns can be compared to values using the usual Python comparison operators. In this case, we’re using “not equal,” or `!=`."
   ]
  },
  {
   "cell_type": "code",
   "execution_count": 44,
   "metadata": {},
   "outputs": [
    {
     "name": "stdout",
     "output_type": "stream",
     "text": [
      "+---------+\n",
      "|     word|\n",
      "+---------+\n",
      "|      the|\n",
      "|  project|\n",
      "|gutenberg|\n",
      "|    ebook|\n",
      "|       of|\n",
      "|    pride|\n",
      "|      and|\n",
      "|prejudice|\n",
      "|       by|\n",
      "|     jane|\n",
      "|   austen|\n",
      "|     this|\n",
      "|    ebook|\n",
      "|       is|\n",
      "|      for|\n",
      "|      the|\n",
      "|      use|\n",
      "|       of|\n",
      "|   anyone|\n",
      "| anywhere|\n",
      "+---------+\n",
      "only showing top 20 rows\n",
      "\n"
     ]
    }
   ],
   "source": [
    "words_nonull = words_clean.filter(col(\"word\") != \"\")\n",
    " \n",
    "words_nonull.show()\n",
    " \n",
    "# +---------+\n",
    "# |     word|\n",
    "# +---------+\n",
    "# |      the|\n",
    "# |  project|\n",
    "# |gutenberg|\n",
    "# |    ebook|\n",
    "# |       of|\n",
    "# |    pride|\n",
    "# |      and|\n",
    "# |prejudice|\n",
    "# |       by|\n",
    "# |     jane|\n",
    "# |   austen|\n",
    "# |     this|\n",
    "# |    ebook|\n",
    "# |       is|\n",
    "# |      for|\n",
    "# |      the|\n",
    "# |      use|\n",
    "# |       of|\n",
    "# |   anyone|\n",
    "# | anywhere|\n",
    "# +---------+\n",
    "# only showing top 20 rows"
   ]
  },
  {
   "cell_type": "markdown",
   "metadata": {},
   "source": [
    "If you want to negate a whole expression in a `filter()` method, PySpark provides the `~` operator. We could theoretically use `filter(~(col(\"word\") == \"\"))`. Look at the exercises at the end of the chapter to see them in an application. You can also use SQL-style expression; check out chapter 7 for an alternative syntax."
   ]
  },
  {
   "cell_type": "markdown",
   "metadata": {},
   "source": [
    "This seems like a good time to take a break and reflect on what we have accomplished so far. If we look at our five steps, we’re 60% of the way there. Our cleaning step took care of nonletter characters and filtered the empty records. We’re ready for counting and displaying the results of our analysis:\n",
    "\n",
    "- [DONE]Read—Read the input data (we’re assuming a plain text file).\n",
    "- [DONE]Token—Tokenize each word.\n",
    "- [DONE]Clean—Remove any punctuation and/or tokens that aren’t words. Lowercase each word.\n",
    "- Count—Count the frequency of each word present in the text.\n",
    "- Answer—Return the top 10 (or 20, 50, 100)."
   ]
  },
  {
   "cell_type": "markdown",
   "metadata": {},
   "source": [
    "We can now rest. The next chapter will cover the end of our program. We will also be looking at bringing our code into one single file, moving away from the REPL into batch mode. We’ll explore options to simplify and increase the readability of our program and then finish by scaling it to a larger corpus of texts.\n",
    "\n",
    "### Summary\n",
    "\n",
    "- Almost all PySpark programs will revolve around three major steps: reading, transforming, and exporting data.\n",
    "- PySpark provides a REPL (read, evaluate, print, loop) via the `pyspark` shell where you can experiment interactively with data.\n",
    "- PySpark data frames are a collection of columns. You operate on the structure using chained transformations. PySpark will optimize the transformations and perform the work only when you submit an action, such as `show()`. This is one of the pillars of PySpark’s performance.\n",
    "- PySpark’s repertoire of functions that operate on columns is located in pyspark `.sql.functions`.\n",
    "- You can select columns or transformed columns via the `select()` method.\n",
    "- You can filter columns using the `where()` or `filter()` methods and by providing a test that will return `True` or `False`; only the records returning True will be kept.\n",
    "- PySpark can have columns of nested values, like arrays of elements. In order to extract the elements into distinct records, you need to use the `explode()` method.\n"
   ]
  },
  {
   "cell_type": "markdown",
   "metadata": {},
   "source": [
    "### Additional exercises\n",
    "\n",
    "For all exercises, assume the following:\n",
    "\n",
    "```python\n",
    "from pyspark.sql import SparkSession\n",
    " \n",
    "spark = SparkSession.builder.getOrCreate()\n",
    "```"
   ]
  },
  {
   "cell_type": "markdown",
   "metadata": {},
   "source": [
    "## Exercise 2.2\n",
    "\n",
    "Given the following data frame, programmatically count the number of columns that aren’t strings (answer = only one column isn’t a string).\n",
    "\n",
    "`createDataFrame()` allows you to create a data frame from a variety of sources, such as a pandas data frame or (in this case) a list of lists.\n",
    "\n",
    "\n"
   ]
  },
  {
   "cell_type": "code",
   "execution_count": 45,
   "metadata": {},
   "outputs": [
    {
     "name": "stdout",
     "output_type": "stream",
     "text": [
      "root\n",
      " |-- one: string (nullable = true)\n",
      " |-- two: string (nullable = true)\n",
      " |-- three: long (nullable = true)\n",
      "\n"
     ]
    }
   ],
   "source": [
    "exo2_2_df = spark.createDataFrame(\n",
    "    [[\"test\", \"more test\", 10_000_000_000]], [\"one\", \"two\", \"three\"]\n",
    ")\n",
    " \n",
    "exo2_2_df.printSchema()"
   ]
  },
  {
   "cell_type": "code",
   "execution_count": 46,
   "metadata": {},
   "outputs": [
    {
     "data": {
      "text/plain": [
       "[('one', 'string'), ('two', 'string'), ('three', 'bigint')]"
      ]
     },
     "execution_count": 46,
     "metadata": {},
     "output_type": "execute_result"
    }
   ],
   "source": [
    "exo2_2_df.dtypes"
   ]
  },
  {
   "cell_type": "code",
   "execution_count": 59,
   "metadata": {},
   "outputs": [
    {
     "name": "stdout",
     "output_type": "stream",
     "text": [
      "StringType\n",
      "StringType\n",
      "LongType\n"
     ]
    }
   ],
   "source": [
    "for field in exo2_2_df.schema.fields:\n",
    "    print(field.dataType)"
   ]
  },
  {
   "cell_type": "markdown",
   "metadata": {},
   "source": [
    "## Exercise 2.3\n",
    "\n",
    "Rewrite the following code snippet, removing the withColumnRenamed method. Which version is clearer and easier to read?"
   ]
  },
  {
   "cell_type": "code",
   "execution_count": 62,
   "metadata": {},
   "outputs": [
    {
     "name": "stdout",
     "output_type": "stream",
     "text": [
      "+--------------+\n",
      "|number_of_char|\n",
      "+--------------+\n",
      "|            66|\n",
      "|             0|\n",
      "|            64|\n",
      "|            68|\n",
      "|            67|\n",
      "|            46|\n",
      "|             0|\n",
      "|             0|\n",
      "|            26|\n",
      "|             0|\n",
      "|            19|\n",
      "|             0|\n",
      "|            43|\n",
      "|            24|\n",
      "|            28|\n",
      "|             0|\n",
      "|            17|\n",
      "|             0|\n",
      "|            29|\n",
      "|             0|\n",
      "+--------------+\n",
      "only showing top 20 rows\n",
      "\n"
     ]
    }
   ],
   "source": [
    "from pyspark.sql.functions import col, length\n",
    " \n",
    "# The `length` function returns the number of characters in a string column.\n",
    " \n",
    "exo2_3_df = (\n",
    "    spark.read.text(\"../../data/gutenberg_books/1342-0.txt\")\n",
    "    .select(length(col(\"value\")))\n",
    "    .withColumnRenamed(\"length(value)\", \"number_of_char\")\n",
    ")\n",
    "\n",
    "exo2_3_df.show()"
   ]
  },
  {
   "cell_type": "code",
   "execution_count": 65,
   "metadata": {},
   "outputs": [
    {
     "name": "stdout",
     "output_type": "stream",
     "text": [
      "+--------------+\n",
      "|number_of_char|\n",
      "+--------------+\n",
      "|            66|\n",
      "|             0|\n",
      "|            64|\n",
      "|            68|\n",
      "|            67|\n",
      "|            46|\n",
      "|             0|\n",
      "|             0|\n",
      "|            26|\n",
      "|             0|\n",
      "|            19|\n",
      "|             0|\n",
      "|            43|\n",
      "|            24|\n",
      "|            28|\n",
      "|             0|\n",
      "|            17|\n",
      "|             0|\n",
      "|            29|\n",
      "|             0|\n",
      "+--------------+\n",
      "only showing top 20 rows\n",
      "\n"
     ]
    }
   ],
   "source": [
    "from pyspark.sql.functions import col, length\n",
    " \n",
    "# The `length` function returns the number of characters in a string column.\n",
    " \n",
    "exo2_3_df = (\n",
    "    spark.read.text(\"../../data/gutenberg_books/1342-0.txt\")\n",
    "    .select(length(col(\"value\")).alias(\"number_of_char\"))\n",
    ")\n",
    "\n",
    "exo2_3_df.show()"
   ]
  },
  {
   "cell_type": "markdown",
   "metadata": {},
   "source": [
    "## Exercise 2.4\n",
    "\n",
    "Assume a data frame `exo2_4_df`. The following code block gives an error. What is the problem, and how can you solve it?"
   ]
  },
  {
   "cell_type": "code",
   "execution_count": 66,
   "metadata": {},
   "outputs": [
    {
     "name": "stdout",
     "output_type": "stream",
     "text": [
      "root\n",
      " |-- key: string (nullable = true)\n",
      " |-- value1: long (nullable = true)\n",
      " |-- value2: long (nullable = true)\n",
      "\n",
      "cannot resolve 'key' given input columns: [maximum_value];\n",
      "'Project ['key, 'max_value]\n",
      "+- Project [greatest(value1#188L, value2#189L) AS maximum_value#193L]\n",
      "   +- LogicalRDD [key#187, value1#188L, value2#189L], false\n",
      "\n"
     ]
    }
   ],
   "source": [
    "from pyspark.sql.functions import col, greatest\n",
    " \n",
    "exo2_4_df = spark.createDataFrame(\n",
    "    [[\"key\", 10_000, 20_000]], [\"key\", \"value1\", \"value2\"]\n",
    ")\n",
    " \n",
    "exo2_4_df.printSchema()\n",
    "# root\n",
    "#  |-- key: string (containsNull = true)\n",
    "#  |-- value1: long (containsNull = true)\n",
    "#  |-- value2: long (containsNull = true)\n",
    " \n",
    "# `greatest` will return the greatest value of the list of column names,\n",
    "# skipping null value\n",
    " \n",
    "# The following statement will return an error\n",
    "from pyspark.sql.utils import AnalysisException\n",
    " \n",
    "try:\n",
    "    exo2_4_mod = exo2_4_df.select(\n",
    "        greatest(col(\"value1\"), col(\"value2\")).alias(\"maximum_value\")\n",
    "    ).select(\"key\", \"max_value\")\n",
    "except AnalysisException as err:\n",
    "    print(err)"
   ]
  },
  {
   "cell_type": "code",
   "execution_count": 67,
   "metadata": {},
   "outputs": [
    {
     "name": "stdout",
     "output_type": "stream",
     "text": [
      "root\n",
      " |-- key: string (nullable = true)\n",
      " |-- value1: long (nullable = true)\n",
      " |-- value2: long (nullable = true)\n",
      "\n",
      "cannot resolve 'key' given input columns: [maximum_value];\n",
      "'Project ['key, maximum_value#201L]\n",
      "+- Project [greatest(value1#196L, value2#197L) AS maximum_value#201L]\n",
      "   +- LogicalRDD [key#195, value1#196L, value2#197L], false\n",
      "\n"
     ]
    }
   ],
   "source": [
    "from pyspark.sql.functions import col, greatest\n",
    " \n",
    "exo2_4_df = spark.createDataFrame(\n",
    "    [[\"key\", 10_000, 20_000]], [\"key\", \"value1\", \"value2\"]\n",
    ")\n",
    " \n",
    "exo2_4_df.printSchema()\n",
    "# root\n",
    "#  |-- key: string (containsNull = true)\n",
    "#  |-- value1: long (containsNull = true)\n",
    "#  |-- value2: long (containsNull = true)\n",
    " \n",
    "# `greatest` will return the greatest value of the list of column names,\n",
    "# skipping null value\n",
    " \n",
    "# The following statement will return an error\n",
    "from pyspark.sql.utils import AnalysisException\n",
    " \n",
    "try:\n",
    "    exo2_4_mod = exo2_4_df.select(\n",
    "        greatest(col(\"value1\"), col(\"value2\")).alias(\"maximum_value\")\n",
    "    ).select(\"key\", \"maximum_value\")\n",
    "except AnalysisException as err:\n",
    "    print(err)"
   ]
  },
  {
   "cell_type": "markdown",
   "metadata": {},
   "source": [
    "## Exercise 2.5\n",
    "\n",
    "Let’s take our `words_nonull` data frame, available in the next listing. You can use the code from the repository (code/Ch02/end_of_chapter.py) in your REPL to get the data frame loaded."
   ]
  },
  {
   "cell_type": "code",
   "execution_count": 72,
   "metadata": {},
   "outputs": [
    {
     "name": "stdout",
     "output_type": "stream",
     "text": [
      "+---------+\n",
      "|     word|\n",
      "+---------+\n",
      "|      the|\n",
      "|  project|\n",
      "|gutenberg|\n",
      "|    ebook|\n",
      "|       of|\n",
      "|    pride|\n",
      "|      and|\n",
      "|prejudice|\n",
      "|       by|\n",
      "|     jane|\n",
      "|   austen|\n",
      "|     this|\n",
      "|    ebook|\n",
      "|       is|\n",
      "|      for|\n",
      "|      the|\n",
      "|      use|\n",
      "|       of|\n",
      "|   anyone|\n",
      "| anywhere|\n",
      "+---------+\n",
      "only showing top 20 rows\n",
      "\n"
     ]
    }
   ],
   "source": [
    "from pyspark.sql import SparkSession\n",
    "from pyspark.sql.functions import col, split, explode, lower, regexp_extract\n",
    "\n",
    "spark = SparkSession.builder.getOrCreate()\n",
    " \n",
    "book = spark.read.text(\"../../data/gutenberg_books/1342-0.txt\")\n",
    " \n",
    "lines = book.select(split(book.value, \" \").alias(\"line\"))\n",
    " \n",
    "words = lines.select(explode(col(\"line\")).alias(\"word\"))\n",
    " \n",
    "words_lower = words.select(lower(col(\"word\")).alias(\"word_lower\"))\n",
    " \n",
    "words_clean = words_lower.select(\n",
    "    regexp_extract(col(\"word_lower\"), \"[a-z]*\", 0).alias(\"word\")\n",
    ")\n",
    " \n",
    "words_nonull = words_clean.where(col(\"word\") != \"\")\n",
    "\n",
    "words_nonull.show()"
   ]
  },
  {
   "cell_type": "markdown",
   "metadata": {},
   "source": [
    "a) Remove all of the occurrences of the word is."
   ]
  },
  {
   "cell_type": "code",
   "execution_count": 70,
   "metadata": {},
   "outputs": [],
   "source": [
    "words_without_is = words_nonull.filter(col(\"word\") != \"is\")"
   ]
  },
  {
   "cell_type": "code",
   "execution_count": 71,
   "metadata": {},
   "outputs": [
    {
     "name": "stdout",
     "output_type": "stream",
     "text": [
      "+---------+\n",
      "|     word|\n",
      "+---------+\n",
      "|      the|\n",
      "|  project|\n",
      "|gutenberg|\n",
      "|    ebook|\n",
      "|       of|\n",
      "|    pride|\n",
      "|      and|\n",
      "|prejudice|\n",
      "|       by|\n",
      "|     jane|\n",
      "|   austen|\n",
      "|     this|\n",
      "|    ebook|\n",
      "|      for|\n",
      "|      the|\n",
      "|      use|\n",
      "|       of|\n",
      "|   anyone|\n",
      "| anywhere|\n",
      "|       at|\n",
      "+---------+\n",
      "only showing top 20 rows\n",
      "\n"
     ]
    }
   ],
   "source": [
    "words_without_is.show()"
   ]
  },
  {
   "cell_type": "markdown",
   "metadata": {},
   "source": [
    "b) (Challenge) Using the `length` function, keep only the words with more than three characters."
   ]
  },
  {
   "cell_type": "code",
   "execution_count": 74,
   "metadata": {},
   "outputs": [
    {
     "name": "stdout",
     "output_type": "stream",
     "text": [
      "+------------+\n",
      "|        word|\n",
      "+------------+\n",
      "|     project|\n",
      "|   gutenberg|\n",
      "|       ebook|\n",
      "|       pride|\n",
      "|   prejudice|\n",
      "|        jane|\n",
      "|      austen|\n",
      "|        this|\n",
      "|       ebook|\n",
      "|      anyone|\n",
      "|    anywhere|\n",
      "|        cost|\n",
      "|        with|\n",
      "|      almost|\n",
      "|restrictions|\n",
      "|  whatsoever|\n",
      "|        copy|\n",
      "|        give|\n",
      "|        away|\n",
      "|       under|\n",
      "+------------+\n",
      "only showing top 20 rows\n",
      "\n"
     ]
    }
   ],
   "source": [
    "from pyspark.sql.functions import length, col\n",
    "\n",
    "words_longer_3_chars = words_nonull.filter(length(col(\"word\")) > 3)\n",
    "\n",
    "words_longer_3_chars.show()"
   ]
  },
  {
   "cell_type": "markdown",
   "metadata": {},
   "source": [
    "## Exercise 2.6\n",
    "\n",
    "The `where` clause takes a Boolean expression over one or many columns to filter the data frame. Beyond the usual Boolean operators (`>`, `<`, `==`, `<=`, `>=`, `!=`), PySpark provides other functions that return Boolean columns in the `pyspark.sql.functions` module.\n",
    "\n",
    "A good example is the `isin()` method (applied on a Column object, like `col(...).isin(...)`), which takes a list of values as a parameter, and will return only the records where the value in the column equals a member of the list.\n",
    "\n",
    "Let’s say you want to remove the words \"is\", \"not\", \"the\" and \"if\" from your list of words, using a single `where()` method on the `words_nonull` data frame. Write the code to do so.\n"
   ]
  },
  {
   "cell_type": "code",
   "execution_count": 76,
   "metadata": {},
   "outputs": [
    {
     "name": "stdout",
     "output_type": "stream",
     "text": [
      "+---------+\n",
      "|     word|\n",
      "+---------+\n",
      "|  project|\n",
      "|gutenberg|\n",
      "|    ebook|\n",
      "|       of|\n",
      "|    pride|\n",
      "|      and|\n",
      "|prejudice|\n",
      "|       by|\n",
      "|     jane|\n",
      "|   austen|\n",
      "|     this|\n",
      "|    ebook|\n",
      "|      for|\n",
      "|      use|\n",
      "|       of|\n",
      "|   anyone|\n",
      "| anywhere|\n",
      "|       at|\n",
      "|       no|\n",
      "|     cost|\n",
      "+---------+\n",
      "only showing top 20 rows\n",
      "\n"
     ]
    }
   ],
   "source": [
    "unwanted_words = [\"is\", \"not\", \"the\", \"if\"]\n",
    "\n",
    "words_filtered = words_nonull.filter(~col(\"word\").isin(unwanted_words))\n",
    "\n",
    "words_filtered.show()"
   ]
  },
  {
   "cell_type": "markdown",
   "metadata": {},
   "source": [
    "## Exercise 2.7\n",
    "\n",
    "One of your friends comes to you with the following code. They have no idea why it doesn’t work. Can you diagnose the problem in the try block, explain why it is an error, and provide a fix?"
   ]
  },
  {
   "cell_type": "code",
   "execution_count": 77,
   "metadata": {},
   "outputs": [
    {
     "name": "stdout",
     "output_type": "stream",
     "text": [
      "root\n",
      " |-- value: string (nullable = true)\n",
      "\n"
     ]
    },
    {
     "ename": "AttributeError",
     "evalue": "'NoneType' object has no attribute 'select'",
     "output_type": "error",
     "traceback": [
      "\u001b[1;31m---------------------------------------------------------------------------\u001b[0m",
      "\u001b[1;31mAttributeError\u001b[0m                            Traceback (most recent call last)",
      "\u001b[1;32md:\\git\\manning\\DataAnalysisWithPythonAndPySpark\\code\\Ch02\\ch02.ipynb Cell 87'\u001b[0m in \u001b[0;36m<cell line: 3>\u001b[1;34m()\u001b[0m\n\u001b[0;32m      <a href='vscode-notebook-cell:/d%3A/git/manning/DataAnalysisWithPythonAndPySpark/code/Ch02/ch02.ipynb#ch0000095?line=3'>4</a>\u001b[0m     book \u001b[39m=\u001b[39m spark\u001b[39m.\u001b[39mread\u001b[39m.\u001b[39mtext(\u001b[39m\"\u001b[39m\u001b[39m../../data/gutenberg_books/1342-0.txt\u001b[39m\u001b[39m\"\u001b[39m)\n\u001b[0;32m      <a href='vscode-notebook-cell:/d%3A/git/manning/DataAnalysisWithPythonAndPySpark/code/Ch02/ch02.ipynb#ch0000095?line=4'>5</a>\u001b[0m     book \u001b[39m=\u001b[39m book\u001b[39m.\u001b[39mprintSchema()\n\u001b[1;32m----> <a href='vscode-notebook-cell:/d%3A/git/manning/DataAnalysisWithPythonAndPySpark/code/Ch02/ch02.ipynb#ch0000095?line=5'>6</a>\u001b[0m     lines \u001b[39m=\u001b[39m book\u001b[39m.\u001b[39;49mselect(split(book\u001b[39m.\u001b[39mvalue, \u001b[39m\"\u001b[39m\u001b[39m \u001b[39m\u001b[39m\"\u001b[39m)\u001b[39m.\u001b[39malias(\u001b[39m\"\u001b[39m\u001b[39mline\u001b[39m\u001b[39m\"\u001b[39m))\n\u001b[0;32m      <a href='vscode-notebook-cell:/d%3A/git/manning/DataAnalysisWithPythonAndPySpark/code/Ch02/ch02.ipynb#ch0000095?line=6'>7</a>\u001b[0m     words \u001b[39m=\u001b[39m lines\u001b[39m.\u001b[39mselect(explode(col(\u001b[39m\"\u001b[39m\u001b[39mline\u001b[39m\u001b[39m\"\u001b[39m))\u001b[39m.\u001b[39malias(\u001b[39m\"\u001b[39m\u001b[39mword\u001b[39m\u001b[39m\"\u001b[39m))\n\u001b[0;32m      <a href='vscode-notebook-cell:/d%3A/git/manning/DataAnalysisWithPythonAndPySpark/code/Ch02/ch02.ipynb#ch0000095?line=7'>8</a>\u001b[0m \u001b[39mexcept\u001b[39;00m AnalysisException \u001b[39mas\u001b[39;00m err:\n",
      "\u001b[1;31mAttributeError\u001b[0m: 'NoneType' object has no attribute 'select'"
     ]
    }
   ],
   "source": [
    "from pyspark.sql.functions import col, split\n",
    " \n",
    "try:\n",
    "    book = spark.read.text(\"../../data/gutenberg_books/1342-0.txt\")\n",
    "    book = book.printSchema()\n",
    "    lines = book.select(split(book.value, \" \").alias(\"line\"))\n",
    "    words = lines.select(explode(col(\"line\")).alias(\"word\"))\n",
    "except AnalysisException as err:\n",
    "    print(err)"
   ]
  },
  {
   "cell_type": "code",
   "execution_count": 78,
   "metadata": {},
   "outputs": [
    {
     "name": "stdout",
     "output_type": "stream",
     "text": [
      "root\n",
      " |-- value: string (nullable = true)\n",
      "\n"
     ]
    }
   ],
   "source": [
    "from pyspark.sql.functions import col, split\n",
    " \n",
    "try:\n",
    "    book = spark.read.text(\"../../data/gutenberg_books/1342-0.txt\")\n",
    "    book.printSchema()\n",
    "    lines = book.select(split(book.value, \" \").alias(\"line\"))\n",
    "    words = lines.select(explode(col(\"line\")).alias(\"word\"))\n",
    "except AnalysisException as err:\n",
    "    print(err)"
   ]
  },
  {
   "cell_type": "code",
   "execution_count": 79,
   "metadata": {},
   "outputs": [
    {
     "name": "stdout",
     "output_type": "stream",
     "text": [
      "+----------+\n",
      "|      word|\n",
      "+----------+\n",
      "|       The|\n",
      "|   Project|\n",
      "| Gutenberg|\n",
      "|     EBook|\n",
      "|        of|\n",
      "|     Pride|\n",
      "|       and|\n",
      "|Prejudice,|\n",
      "|        by|\n",
      "|      Jane|\n",
      "|    Austen|\n",
      "|          |\n",
      "|      This|\n",
      "|     eBook|\n",
      "|        is|\n",
      "|       for|\n",
      "|       the|\n",
      "|       use|\n",
      "|        of|\n",
      "|    anyone|\n",
      "+----------+\n",
      "only showing top 20 rows\n",
      "\n"
     ]
    }
   ],
   "source": [
    "words.show()"
   ]
  },
  {
   "cell_type": "code",
   "execution_count": null,
   "metadata": {},
   "outputs": [],
   "source": []
  }
 ],
 "metadata": {
  "interpreter": {
   "hash": "ed3b52db287b4a5df29473a599c0c2e9f2908e1b4c36ea301cf500c1489a061a"
  },
  "kernelspec": {
   "display_name": "Python 3.9.12 ('pyspark')",
   "language": "python",
   "name": "python3"
  },
  "language_info": {
   "codemirror_mode": {
    "name": "ipython",
    "version": 3
   },
   "file_extension": ".py",
   "mimetype": "text/x-python",
   "name": "python",
   "nbconvert_exporter": "python",
   "pygments_lexer": "ipython3",
   "version": "3.9.12"
  },
  "orig_nbformat": 4
 },
 "nbformat": 4,
 "nbformat_minor": 2
}
